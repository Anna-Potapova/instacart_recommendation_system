{
  "nbformat": 4,
  "nbformat_minor": 0,
  "metadata": {
    "colab": {
      "name": "Skillbox - диплом по рекомендательным системам.ipynb",
      "provenance": [],
      "collapsed_sections": []
    },
    "kernelspec": {
      "name": "python3",
      "display_name": "Python 3"
    },
    "accelerator": "TPU"
  },
  "cells": [
    {
      "cell_type": "code",
      "metadata": {
        "id": "lPbZI23Il7jn"
      },
      "source": [
        "import pandas as pd\r\n",
        "import numpy as np\r\n",
        "from sklearn.preprocessing import MinMaxScaler\r\n",
        "from keras.preprocessing.text import Tokenizer\r\n",
        "import gc                         \r\n",
        "gc.enable()\r\n",
        "from sklearn.linear_model import LogisticRegression #логистическая регрессия\r\n",
        "from sklearn.metrics import accuracy_score"
      ],
      "execution_count": 1,
      "outputs": []
    },
    {
      "cell_type": "code",
      "metadata": {
        "id": "Ft7v3-gw39au"
      },
      "source": [
        "#загружаем данные из файла \"transactions.csv\"\r\n",
        "df_transactions = pd.read_csv('/content/drive/MyDrive/transactions.csv', sep=',')"
      ],
      "execution_count": 2,
      "outputs": []
    },
    {
      "cell_type": "code",
      "metadata": {
        "colab": {
          "base_uri": "https://localhost:8080/",
          "height": 202
        },
        "id": "VY7hmRh7mxQM",
        "outputId": "c2d32925-075f-455e-b9e9-574cb576d93d"
      },
      "source": [
        "#формируем датафрейм с максимальным количеством заказов для каждого пользователя\r\n",
        "df_user = df_transactions.groupby('user_id')[['order_number']].max()\r\n",
        "df_user.columns = ['user_total_orders']\r\n",
        "df_user = df_user.reset_index()\r\n",
        "df_user.head()"
      ],
      "execution_count": 3,
      "outputs": [
        {
          "output_type": "execute_result",
          "data": {
            "text/html": [
              "<div>\n",
              "<style scoped>\n",
              "    .dataframe tbody tr th:only-of-type {\n",
              "        vertical-align: middle;\n",
              "    }\n",
              "\n",
              "    .dataframe tbody tr th {\n",
              "        vertical-align: top;\n",
              "    }\n",
              "\n",
              "    .dataframe thead th {\n",
              "        text-align: right;\n",
              "    }\n",
              "</style>\n",
              "<table border=\"1\" class=\"dataframe\">\n",
              "  <thead>\n",
              "    <tr style=\"text-align: right;\">\n",
              "      <th></th>\n",
              "      <th>user_id</th>\n",
              "      <th>user_total_orders</th>\n",
              "    </tr>\n",
              "  </thead>\n",
              "  <tbody>\n",
              "    <tr>\n",
              "      <th>0</th>\n",
              "      <td>1</td>\n",
              "      <td>10</td>\n",
              "    </tr>\n",
              "    <tr>\n",
              "      <th>1</th>\n",
              "      <td>2</td>\n",
              "      <td>14</td>\n",
              "    </tr>\n",
              "    <tr>\n",
              "      <th>2</th>\n",
              "      <td>3</td>\n",
              "      <td>11</td>\n",
              "    </tr>\n",
              "    <tr>\n",
              "      <th>3</th>\n",
              "      <td>7</td>\n",
              "      <td>20</td>\n",
              "    </tr>\n",
              "    <tr>\n",
              "      <th>4</th>\n",
              "      <td>13</td>\n",
              "      <td>12</td>\n",
              "    </tr>\n",
              "  </tbody>\n",
              "</table>\n",
              "</div>"
            ],
            "text/plain": [
              "   user_id  user_total_orders\n",
              "0        1                 10\n",
              "1        2                 14\n",
              "2        3                 11\n",
              "3        7                 20\n",
              "4       13                 12"
            ]
          },
          "metadata": {
            "tags": []
          },
          "execution_count": 3
        }
      ]
    },
    {
      "cell_type": "code",
      "metadata": {
        "colab": {
          "base_uri": "https://localhost:8080/",
          "height": 202
        },
        "id": "UliHBfTSmRLy",
        "outputId": "6ff65dc8-7f91-4a44-a331-d232d5266142"
      },
      "source": [
        "#формируем вспомогательный датафрейм с деталями заказов\r\n",
        "df_orders = df_transactions[['user_id', 'order_id', 'product_id', 'add_to_cart_order', 'reordered']]\r\n",
        "df_orders.head()"
      ],
      "execution_count": 4,
      "outputs": [
        {
          "output_type": "execute_result",
          "data": {
            "text/html": [
              "<div>\n",
              "<style scoped>\n",
              "    .dataframe tbody tr th:only-of-type {\n",
              "        vertical-align: middle;\n",
              "    }\n",
              "\n",
              "    .dataframe tbody tr th {\n",
              "        vertical-align: top;\n",
              "    }\n",
              "\n",
              "    .dataframe thead th {\n",
              "        text-align: right;\n",
              "    }\n",
              "</style>\n",
              "<table border=\"1\" class=\"dataframe\">\n",
              "  <thead>\n",
              "    <tr style=\"text-align: right;\">\n",
              "      <th></th>\n",
              "      <th>user_id</th>\n",
              "      <th>order_id</th>\n",
              "      <th>product_id</th>\n",
              "      <th>add_to_cart_order</th>\n",
              "      <th>reordered</th>\n",
              "    </tr>\n",
              "  </thead>\n",
              "  <tbody>\n",
              "    <tr>\n",
              "      <th>0</th>\n",
              "      <td>1</td>\n",
              "      <td>2539329</td>\n",
              "      <td>196</td>\n",
              "      <td>1.0</td>\n",
              "      <td>0.0</td>\n",
              "    </tr>\n",
              "    <tr>\n",
              "      <th>1</th>\n",
              "      <td>1</td>\n",
              "      <td>2539329</td>\n",
              "      <td>14084</td>\n",
              "      <td>2.0</td>\n",
              "      <td>0.0</td>\n",
              "    </tr>\n",
              "    <tr>\n",
              "      <th>2</th>\n",
              "      <td>1</td>\n",
              "      <td>2539329</td>\n",
              "      <td>12427</td>\n",
              "      <td>3.0</td>\n",
              "      <td>0.0</td>\n",
              "    </tr>\n",
              "    <tr>\n",
              "      <th>3</th>\n",
              "      <td>1</td>\n",
              "      <td>2539329</td>\n",
              "      <td>26088</td>\n",
              "      <td>4.0</td>\n",
              "      <td>0.0</td>\n",
              "    </tr>\n",
              "    <tr>\n",
              "      <th>4</th>\n",
              "      <td>1</td>\n",
              "      <td>2539329</td>\n",
              "      <td>26405</td>\n",
              "      <td>5.0</td>\n",
              "      <td>0.0</td>\n",
              "    </tr>\n",
              "  </tbody>\n",
              "</table>\n",
              "</div>"
            ],
            "text/plain": [
              "   user_id  order_id  product_id  add_to_cart_order  reordered\n",
              "0        1   2539329         196                1.0        0.0\n",
              "1        1   2539329       14084                2.0        0.0\n",
              "2        1   2539329       12427                3.0        0.0\n",
              "3        1   2539329       26088                4.0        0.0\n",
              "4        1   2539329       26405                5.0        0.0"
            ]
          },
          "metadata": {
            "tags": []
          },
          "execution_count": 4
        }
      ]
    },
    {
      "cell_type": "code",
      "metadata": {
        "colab": {
          "base_uri": "https://localhost:8080/",
          "height": 202
        },
        "id": "gn2T4NGXmxTl",
        "outputId": "0e341749-56fa-4316-bf42-0b40892dde1b"
      },
      "source": [
        "#вычисляем среднее по столбцу 'reordered' для каждого пользователя и формируем датафрейм\r\n",
        "df_user_reorder = df_transactions.groupby('user_id')['reordered'].mean().to_frame('user_reordered_ratio').reset_index()\r\n",
        "df_user_reorder.head()"
      ],
      "execution_count": 5,
      "outputs": [
        {
          "output_type": "execute_result",
          "data": {
            "text/html": [
              "<div>\n",
              "<style scoped>\n",
              "    .dataframe tbody tr th:only-of-type {\n",
              "        vertical-align: middle;\n",
              "    }\n",
              "\n",
              "    .dataframe tbody tr th {\n",
              "        vertical-align: top;\n",
              "    }\n",
              "\n",
              "    .dataframe thead th {\n",
              "        text-align: right;\n",
              "    }\n",
              "</style>\n",
              "<table border=\"1\" class=\"dataframe\">\n",
              "  <thead>\n",
              "    <tr style=\"text-align: right;\">\n",
              "      <th></th>\n",
              "      <th>user_id</th>\n",
              "      <th>user_reordered_ratio</th>\n",
              "    </tr>\n",
              "  </thead>\n",
              "  <tbody>\n",
              "    <tr>\n",
              "      <th>0</th>\n",
              "      <td>1</td>\n",
              "      <td>0.694915</td>\n",
              "    </tr>\n",
              "    <tr>\n",
              "      <th>1</th>\n",
              "      <td>2</td>\n",
              "      <td>0.476923</td>\n",
              "    </tr>\n",
              "    <tr>\n",
              "      <th>2</th>\n",
              "      <td>3</td>\n",
              "      <td>0.597561</td>\n",
              "    </tr>\n",
              "    <tr>\n",
              "      <th>3</th>\n",
              "      <td>7</td>\n",
              "      <td>0.669903</td>\n",
              "    </tr>\n",
              "    <tr>\n",
              "      <th>4</th>\n",
              "      <td>13</td>\n",
              "      <td>0.641975</td>\n",
              "    </tr>\n",
              "  </tbody>\n",
              "</table>\n",
              "</div>"
            ],
            "text/plain": [
              "   user_id  user_reordered_ratio\n",
              "0        1              0.694915\n",
              "1        2              0.476923\n",
              "2        3              0.597561\n",
              "3        7              0.669903\n",
              "4       13              0.641975"
            ]
          },
          "metadata": {
            "tags": []
          },
          "execution_count": 5
        }
      ]
    },
    {
      "cell_type": "code",
      "metadata": {
        "colab": {
          "base_uri": "https://localhost:8080/",
          "height": 202
        },
        "id": "jC-cl0ngmxZG",
        "outputId": "c6a92a8a-0f1a-47af-bdea-08f14e59765a"
      },
      "source": [
        "#вычисляем среднее значение позиции товара в чеке по каждой паре \"пользователь/товар\", затем сортируем по возрастанию\r\n",
        "df_add_to_cart_order = df_transactions.groupby(['user_id', 'product_id'])['add_to_cart_order'].mean().to_frame('user_add_to_cart_order_ratio').reset_index()\r\n",
        "df_add_to_cart_order = df_add_to_cart_order.sort_values(by=['user_id', 'user_add_to_cart_order_ratio'])\r\n",
        "df_add_to_cart_order.head()"
      ],
      "execution_count": 6,
      "outputs": [
        {
          "output_type": "execute_result",
          "data": {
            "text/html": [
              "<div>\n",
              "<style scoped>\n",
              "    .dataframe tbody tr th:only-of-type {\n",
              "        vertical-align: middle;\n",
              "    }\n",
              "\n",
              "    .dataframe tbody tr th {\n",
              "        vertical-align: top;\n",
              "    }\n",
              "\n",
              "    .dataframe thead th {\n",
              "        text-align: right;\n",
              "    }\n",
              "</style>\n",
              "<table border=\"1\" class=\"dataframe\">\n",
              "  <thead>\n",
              "    <tr style=\"text-align: right;\">\n",
              "      <th></th>\n",
              "      <th>user_id</th>\n",
              "      <th>product_id</th>\n",
              "      <th>user_add_to_cart_order_ratio</th>\n",
              "    </tr>\n",
              "  </thead>\n",
              "  <tbody>\n",
              "    <tr>\n",
              "      <th>0</th>\n",
              "      <td>1</td>\n",
              "      <td>196</td>\n",
              "      <td>1.4</td>\n",
              "    </tr>\n",
              "    <tr>\n",
              "      <th>6</th>\n",
              "      <td>1</td>\n",
              "      <td>14084</td>\n",
              "      <td>2.0</td>\n",
              "    </tr>\n",
              "    <tr>\n",
              "      <th>14</th>\n",
              "      <td>1</td>\n",
              "      <td>39657</td>\n",
              "      <td>3.0</td>\n",
              "    </tr>\n",
              "    <tr>\n",
              "      <th>16</th>\n",
              "      <td>1</td>\n",
              "      <td>46149</td>\n",
              "      <td>3.0</td>\n",
              "    </tr>\n",
              "    <tr>\n",
              "      <th>3</th>\n",
              "      <td>1</td>\n",
              "      <td>12427</td>\n",
              "      <td>3.3</td>\n",
              "    </tr>\n",
              "  </tbody>\n",
              "</table>\n",
              "</div>"
            ],
            "text/plain": [
              "    user_id  product_id  user_add_to_cart_order_ratio\n",
              "0         1         196                           1.4\n",
              "6         1       14084                           2.0\n",
              "14        1       39657                           3.0\n",
              "16        1       46149                           3.0\n",
              "3         1       12427                           3.3"
            ]
          },
          "metadata": {
            "tags": []
          },
          "execution_count": 6
        }
      ]
    },
    {
      "cell_type": "code",
      "metadata": {
        "id": "kEx4ihb2y4c5"
      },
      "source": [
        "#объединяем df_transactions и df_user\r\n",
        "df_transactions = pd.merge(df_transactions, df_user, on=['user_id'], how='left')"
      ],
      "execution_count": 7,
      "outputs": []
    },
    {
      "cell_type": "code",
      "metadata": {
        "colab": {
          "base_uri": "https://localhost:8080/",
          "height": 375
        },
        "id": "8QmR0d5F1em6",
        "outputId": "73756b57-9f09-4bd4-d984-def36cbfbaec"
      },
      "source": [
        "#добавляем столбец 'diff', представляющий собой разницу между общим кол-вом заказов и текущим номером заказа\r\n",
        "df_transactions['diff'] = df_transactions['user_total_orders'] - df_transactions['order_number']\r\n",
        "df_transactions.head(10)"
      ],
      "execution_count": 8,
      "outputs": [
        {
          "output_type": "execute_result",
          "data": {
            "text/html": [
              "<div>\n",
              "<style scoped>\n",
              "    .dataframe tbody tr th:only-of-type {\n",
              "        vertical-align: middle;\n",
              "    }\n",
              "\n",
              "    .dataframe tbody tr th {\n",
              "        vertical-align: top;\n",
              "    }\n",
              "\n",
              "    .dataframe thead th {\n",
              "        text-align: right;\n",
              "    }\n",
              "</style>\n",
              "<table border=\"1\" class=\"dataframe\">\n",
              "  <thead>\n",
              "    <tr style=\"text-align: right;\">\n",
              "      <th></th>\n",
              "      <th>order_id</th>\n",
              "      <th>user_id</th>\n",
              "      <th>order_number</th>\n",
              "      <th>order_dow</th>\n",
              "      <th>order_hour_of_day</th>\n",
              "      <th>days_since_prior_order</th>\n",
              "      <th>product_id</th>\n",
              "      <th>add_to_cart_order</th>\n",
              "      <th>reordered</th>\n",
              "      <th>user_total_orders</th>\n",
              "      <th>diff</th>\n",
              "    </tr>\n",
              "  </thead>\n",
              "  <tbody>\n",
              "    <tr>\n",
              "      <th>0</th>\n",
              "      <td>2539329</td>\n",
              "      <td>1</td>\n",
              "      <td>1</td>\n",
              "      <td>2</td>\n",
              "      <td>8</td>\n",
              "      <td>NaN</td>\n",
              "      <td>196</td>\n",
              "      <td>1.0</td>\n",
              "      <td>0.0</td>\n",
              "      <td>10</td>\n",
              "      <td>9</td>\n",
              "    </tr>\n",
              "    <tr>\n",
              "      <th>1</th>\n",
              "      <td>2539329</td>\n",
              "      <td>1</td>\n",
              "      <td>1</td>\n",
              "      <td>2</td>\n",
              "      <td>8</td>\n",
              "      <td>NaN</td>\n",
              "      <td>14084</td>\n",
              "      <td>2.0</td>\n",
              "      <td>0.0</td>\n",
              "      <td>10</td>\n",
              "      <td>9</td>\n",
              "    </tr>\n",
              "    <tr>\n",
              "      <th>2</th>\n",
              "      <td>2539329</td>\n",
              "      <td>1</td>\n",
              "      <td>1</td>\n",
              "      <td>2</td>\n",
              "      <td>8</td>\n",
              "      <td>NaN</td>\n",
              "      <td>12427</td>\n",
              "      <td>3.0</td>\n",
              "      <td>0.0</td>\n",
              "      <td>10</td>\n",
              "      <td>9</td>\n",
              "    </tr>\n",
              "    <tr>\n",
              "      <th>3</th>\n",
              "      <td>2539329</td>\n",
              "      <td>1</td>\n",
              "      <td>1</td>\n",
              "      <td>2</td>\n",
              "      <td>8</td>\n",
              "      <td>NaN</td>\n",
              "      <td>26088</td>\n",
              "      <td>4.0</td>\n",
              "      <td>0.0</td>\n",
              "      <td>10</td>\n",
              "      <td>9</td>\n",
              "    </tr>\n",
              "    <tr>\n",
              "      <th>4</th>\n",
              "      <td>2539329</td>\n",
              "      <td>1</td>\n",
              "      <td>1</td>\n",
              "      <td>2</td>\n",
              "      <td>8</td>\n",
              "      <td>NaN</td>\n",
              "      <td>26405</td>\n",
              "      <td>5.0</td>\n",
              "      <td>0.0</td>\n",
              "      <td>10</td>\n",
              "      <td>9</td>\n",
              "    </tr>\n",
              "    <tr>\n",
              "      <th>5</th>\n",
              "      <td>2398795</td>\n",
              "      <td>1</td>\n",
              "      <td>2</td>\n",
              "      <td>3</td>\n",
              "      <td>7</td>\n",
              "      <td>15.0</td>\n",
              "      <td>196</td>\n",
              "      <td>1.0</td>\n",
              "      <td>1.0</td>\n",
              "      <td>10</td>\n",
              "      <td>8</td>\n",
              "    </tr>\n",
              "    <tr>\n",
              "      <th>6</th>\n",
              "      <td>2398795</td>\n",
              "      <td>1</td>\n",
              "      <td>2</td>\n",
              "      <td>3</td>\n",
              "      <td>7</td>\n",
              "      <td>15.0</td>\n",
              "      <td>10258</td>\n",
              "      <td>2.0</td>\n",
              "      <td>0.0</td>\n",
              "      <td>10</td>\n",
              "      <td>8</td>\n",
              "    </tr>\n",
              "    <tr>\n",
              "      <th>7</th>\n",
              "      <td>2398795</td>\n",
              "      <td>1</td>\n",
              "      <td>2</td>\n",
              "      <td>3</td>\n",
              "      <td>7</td>\n",
              "      <td>15.0</td>\n",
              "      <td>12427</td>\n",
              "      <td>3.0</td>\n",
              "      <td>1.0</td>\n",
              "      <td>10</td>\n",
              "      <td>8</td>\n",
              "    </tr>\n",
              "    <tr>\n",
              "      <th>8</th>\n",
              "      <td>2398795</td>\n",
              "      <td>1</td>\n",
              "      <td>2</td>\n",
              "      <td>3</td>\n",
              "      <td>7</td>\n",
              "      <td>15.0</td>\n",
              "      <td>13176</td>\n",
              "      <td>4.0</td>\n",
              "      <td>0.0</td>\n",
              "      <td>10</td>\n",
              "      <td>8</td>\n",
              "    </tr>\n",
              "    <tr>\n",
              "      <th>9</th>\n",
              "      <td>2398795</td>\n",
              "      <td>1</td>\n",
              "      <td>2</td>\n",
              "      <td>3</td>\n",
              "      <td>7</td>\n",
              "      <td>15.0</td>\n",
              "      <td>26088</td>\n",
              "      <td>5.0</td>\n",
              "      <td>1.0</td>\n",
              "      <td>10</td>\n",
              "      <td>8</td>\n",
              "    </tr>\n",
              "  </tbody>\n",
              "</table>\n",
              "</div>"
            ],
            "text/plain": [
              "   order_id  user_id  order_number  ...  reordered  user_total_orders  diff\n",
              "0   2539329        1             1  ...        0.0                 10     9\n",
              "1   2539329        1             1  ...        0.0                 10     9\n",
              "2   2539329        1             1  ...        0.0                 10     9\n",
              "3   2539329        1             1  ...        0.0                 10     9\n",
              "4   2539329        1             1  ...        0.0                 10     9\n",
              "5   2398795        1             2  ...        1.0                 10     8\n",
              "6   2398795        1             2  ...        0.0                 10     8\n",
              "7   2398795        1             2  ...        1.0                 10     8\n",
              "8   2398795        1             2  ...        0.0                 10     8\n",
              "9   2398795        1             2  ...        1.0                 10     8\n",
              "\n",
              "[10 rows x 11 columns]"
            ]
          },
          "metadata": {
            "tags": []
          },
          "execution_count": 8
        }
      ]
    },
    {
      "cell_type": "code",
      "metadata": {
        "colab": {
          "base_uri": "https://localhost:8080/",
          "height": 202
        },
        "id": "YoW_Rf95n43P",
        "outputId": "da6c5f58-0556-40ec-c113-c47e54ddf1f0"
      },
      "source": [
        "#объединяем df_user_reorder и df_user\r\n",
        "df_user = df_user.merge(df_user_reorder, on='user_id', how='left')\r\n",
        "df_user.head()"
      ],
      "execution_count": 9,
      "outputs": [
        {
          "output_type": "execute_result",
          "data": {
            "text/html": [
              "<div>\n",
              "<style scoped>\n",
              "    .dataframe tbody tr th:only-of-type {\n",
              "        vertical-align: middle;\n",
              "    }\n",
              "\n",
              "    .dataframe tbody tr th {\n",
              "        vertical-align: top;\n",
              "    }\n",
              "\n",
              "    .dataframe thead th {\n",
              "        text-align: right;\n",
              "    }\n",
              "</style>\n",
              "<table border=\"1\" class=\"dataframe\">\n",
              "  <thead>\n",
              "    <tr style=\"text-align: right;\">\n",
              "      <th></th>\n",
              "      <th>user_id</th>\n",
              "      <th>user_total_orders</th>\n",
              "      <th>user_reordered_ratio</th>\n",
              "    </tr>\n",
              "  </thead>\n",
              "  <tbody>\n",
              "    <tr>\n",
              "      <th>0</th>\n",
              "      <td>1</td>\n",
              "      <td>10</td>\n",
              "      <td>0.694915</td>\n",
              "    </tr>\n",
              "    <tr>\n",
              "      <th>1</th>\n",
              "      <td>2</td>\n",
              "      <td>14</td>\n",
              "      <td>0.476923</td>\n",
              "    </tr>\n",
              "    <tr>\n",
              "      <th>2</th>\n",
              "      <td>3</td>\n",
              "      <td>11</td>\n",
              "      <td>0.597561</td>\n",
              "    </tr>\n",
              "    <tr>\n",
              "      <th>3</th>\n",
              "      <td>7</td>\n",
              "      <td>20</td>\n",
              "      <td>0.669903</td>\n",
              "    </tr>\n",
              "    <tr>\n",
              "      <th>4</th>\n",
              "      <td>13</td>\n",
              "      <td>12</td>\n",
              "      <td>0.641975</td>\n",
              "    </tr>\n",
              "  </tbody>\n",
              "</table>\n",
              "</div>"
            ],
            "text/plain": [
              "   user_id  user_total_orders  user_reordered_ratio\n",
              "0        1                 10              0.694915\n",
              "1        2                 14              0.476923\n",
              "2        3                 11              0.597561\n",
              "3        7                 20              0.669903\n",
              "4       13                 12              0.641975"
            ]
          },
          "metadata": {
            "tags": []
          },
          "execution_count": 9
        }
      ]
    },
    {
      "cell_type": "code",
      "metadata": {
        "colab": {
          "base_uri": "https://localhost:8080/"
        },
        "id": "T3WkdvGQluX7",
        "outputId": "c47f907c-6fca-45d1-da0a-42ad0feeee77"
      },
      "source": [
        "del df_user_reorder\r\n",
        "gc.collect()"
      ],
      "execution_count": 10,
      "outputs": [
        {
          "output_type": "execute_result",
          "data": {
            "text/plain": [
              "45"
            ]
          },
          "metadata": {
            "tags": []
          },
          "execution_count": 10
        }
      ]
    },
    {
      "cell_type": "code",
      "metadata": {
        "colab": {
          "base_uri": "https://localhost:8080/",
          "height": 202
        },
        "id": "Yxn_1fnan480",
        "outputId": "6820ec5d-d58c-4726-a2de-4d1d91fa37fd"
      },
      "source": [
        "#находим общее количество приобретенных товаров по каждому product_id\tи формируем датафрейм\r\n",
        "df_purchases = df_transactions.groupby('product_id')['order_id'].count().to_frame('product_total_purchases').reset_index()\r\n",
        "df_purchases.head()"
      ],
      "execution_count": 11,
      "outputs": [
        {
          "output_type": "execute_result",
          "data": {
            "text/html": [
              "<div>\n",
              "<style scoped>\n",
              "    .dataframe tbody tr th:only-of-type {\n",
              "        vertical-align: middle;\n",
              "    }\n",
              "\n",
              "    .dataframe tbody tr th {\n",
              "        vertical-align: top;\n",
              "    }\n",
              "\n",
              "    .dataframe thead th {\n",
              "        text-align: right;\n",
              "    }\n",
              "</style>\n",
              "<table border=\"1\" class=\"dataframe\">\n",
              "  <thead>\n",
              "    <tr style=\"text-align: right;\">\n",
              "      <th></th>\n",
              "      <th>product_id</th>\n",
              "      <th>product_total_purchases</th>\n",
              "    </tr>\n",
              "  </thead>\n",
              "  <tbody>\n",
              "    <tr>\n",
              "      <th>0</th>\n",
              "      <td>1</td>\n",
              "      <td>1549</td>\n",
              "    </tr>\n",
              "    <tr>\n",
              "      <th>1</th>\n",
              "      <td>2</td>\n",
              "      <td>80</td>\n",
              "    </tr>\n",
              "    <tr>\n",
              "      <th>2</th>\n",
              "      <td>3</td>\n",
              "      <td>242</td>\n",
              "    </tr>\n",
              "    <tr>\n",
              "      <th>3</th>\n",
              "      <td>4</td>\n",
              "      <td>215</td>\n",
              "    </tr>\n",
              "    <tr>\n",
              "      <th>4</th>\n",
              "      <td>5</td>\n",
              "      <td>11</td>\n",
              "    </tr>\n",
              "  </tbody>\n",
              "</table>\n",
              "</div>"
            ],
            "text/plain": [
              "   product_id  product_total_purchases\n",
              "0           1                     1549\n",
              "1           2                       80\n",
              "2           3                      242\n",
              "3           4                      215\n",
              "4           5                       11"
            ]
          },
          "metadata": {
            "tags": []
          },
          "execution_count": 11
        }
      ]
    },
    {
      "cell_type": "code",
      "metadata": {
        "colab": {
          "base_uri": "https://localhost:8080/",
          "height": 202
        },
        "id": "sap3sqqwn5Eh",
        "outputId": "fccc55fe-e923-40d1-ad82-b4190b2fc9d3"
      },
      "source": [
        "#вычисляем среднее по столбцу 'reordered' для каждого товара и формируем датафрейм\r\n",
        "df_product_reorder = df_transactions.groupby('product_id')['reordered'].mean().to_frame('product_reorder_ratio').reset_index()\r\n",
        "df_product_reorder.head()"
      ],
      "execution_count": 12,
      "outputs": [
        {
          "output_type": "execute_result",
          "data": {
            "text/html": [
              "<div>\n",
              "<style scoped>\n",
              "    .dataframe tbody tr th:only-of-type {\n",
              "        vertical-align: middle;\n",
              "    }\n",
              "\n",
              "    .dataframe tbody tr th {\n",
              "        vertical-align: top;\n",
              "    }\n",
              "\n",
              "    .dataframe thead th {\n",
              "        text-align: right;\n",
              "    }\n",
              "</style>\n",
              "<table border=\"1\" class=\"dataframe\">\n",
              "  <thead>\n",
              "    <tr style=\"text-align: right;\">\n",
              "      <th></th>\n",
              "      <th>product_id</th>\n",
              "      <th>product_reorder_ratio</th>\n",
              "    </tr>\n",
              "  </thead>\n",
              "  <tbody>\n",
              "    <tr>\n",
              "      <th>0</th>\n",
              "      <td>1</td>\n",
              "      <td>0.678502</td>\n",
              "    </tr>\n",
              "    <tr>\n",
              "      <th>1</th>\n",
              "      <td>2</td>\n",
              "      <td>0.137500</td>\n",
              "    </tr>\n",
              "    <tr>\n",
              "      <th>2</th>\n",
              "      <td>3</td>\n",
              "      <td>0.789256</td>\n",
              "    </tr>\n",
              "    <tr>\n",
              "      <th>3</th>\n",
              "      <td>4</td>\n",
              "      <td>0.488372</td>\n",
              "    </tr>\n",
              "    <tr>\n",
              "      <th>4</th>\n",
              "      <td>5</td>\n",
              "      <td>0.727273</td>\n",
              "    </tr>\n",
              "  </tbody>\n",
              "</table>\n",
              "</div>"
            ],
            "text/plain": [
              "   product_id  product_reorder_ratio\n",
              "0           1               0.678502\n",
              "1           2               0.137500\n",
              "2           3               0.789256\n",
              "3           4               0.488372\n",
              "4           5               0.727273"
            ]
          },
          "metadata": {
            "tags": []
          },
          "execution_count": 12
        }
      ]
    },
    {
      "cell_type": "code",
      "metadata": {
        "colab": {
          "base_uri": "https://localhost:8080/",
          "height": 202
        },
        "id": "RVG70JPtoKHs",
        "outputId": "89ed6267-3d86-4c4d-9e59-ad89c8248a93"
      },
      "source": [
        "#объединяем df_purchases и df_product_reorder\r\n",
        "df_purchases = df_purchases.merge(df_product_reorder, on='product_id', how='left')\r\n",
        "df_purchases.head()"
      ],
      "execution_count": 13,
      "outputs": [
        {
          "output_type": "execute_result",
          "data": {
            "text/html": [
              "<div>\n",
              "<style scoped>\n",
              "    .dataframe tbody tr th:only-of-type {\n",
              "        vertical-align: middle;\n",
              "    }\n",
              "\n",
              "    .dataframe tbody tr th {\n",
              "        vertical-align: top;\n",
              "    }\n",
              "\n",
              "    .dataframe thead th {\n",
              "        text-align: right;\n",
              "    }\n",
              "</style>\n",
              "<table border=\"1\" class=\"dataframe\">\n",
              "  <thead>\n",
              "    <tr style=\"text-align: right;\">\n",
              "      <th></th>\n",
              "      <th>product_id</th>\n",
              "      <th>product_total_purchases</th>\n",
              "      <th>product_reorder_ratio</th>\n",
              "    </tr>\n",
              "  </thead>\n",
              "  <tbody>\n",
              "    <tr>\n",
              "      <th>0</th>\n",
              "      <td>1</td>\n",
              "      <td>1549</td>\n",
              "      <td>0.678502</td>\n",
              "    </tr>\n",
              "    <tr>\n",
              "      <th>1</th>\n",
              "      <td>2</td>\n",
              "      <td>80</td>\n",
              "      <td>0.137500</td>\n",
              "    </tr>\n",
              "    <tr>\n",
              "      <th>2</th>\n",
              "      <td>3</td>\n",
              "      <td>242</td>\n",
              "      <td>0.789256</td>\n",
              "    </tr>\n",
              "    <tr>\n",
              "      <th>3</th>\n",
              "      <td>4</td>\n",
              "      <td>215</td>\n",
              "      <td>0.488372</td>\n",
              "    </tr>\n",
              "    <tr>\n",
              "      <th>4</th>\n",
              "      <td>5</td>\n",
              "      <td>11</td>\n",
              "      <td>0.727273</td>\n",
              "    </tr>\n",
              "  </tbody>\n",
              "</table>\n",
              "</div>"
            ],
            "text/plain": [
              "   product_id  product_total_purchases  product_reorder_ratio\n",
              "0           1                     1549               0.678502\n",
              "1           2                       80               0.137500\n",
              "2           3                      242               0.789256\n",
              "3           4                      215               0.488372\n",
              "4           5                       11               0.727273"
            ]
          },
          "metadata": {
            "tags": []
          },
          "execution_count": 13
        }
      ]
    },
    {
      "cell_type": "code",
      "metadata": {
        "colab": {
          "base_uri": "https://localhost:8080/"
        },
        "id": "Xby-DZiboKM9",
        "outputId": "920162e3-d10f-45b8-dbd5-f7266a7ed4dd"
      },
      "source": [
        "del df_product_reorder\r\n",
        "gc.collect()"
      ],
      "execution_count": 14,
      "outputs": [
        {
          "output_type": "execute_result",
          "data": {
            "text/plain": [
              "36"
            ]
          },
          "metadata": {
            "tags": []
          },
          "execution_count": 14
        }
      ]
    },
    {
      "cell_type": "code",
      "metadata": {
        "id": "owzjAjtToKWF",
        "colab": {
          "base_uri": "https://localhost:8080/",
          "height": 202
        },
        "outputId": "414490ef-1b5d-4b69-da6e-936cf0356740"
      },
      "source": [
        "#удаляем Nan из столбца 'product_reorder_ratio'\r\n",
        "df_purchases['product_reorder_ratio'] = df_purchases['product_reorder_ratio'].fillna(value=0)\r\n",
        "df_purchases.head()"
      ],
      "execution_count": 15,
      "outputs": [
        {
          "output_type": "execute_result",
          "data": {
            "text/html": [
              "<div>\n",
              "<style scoped>\n",
              "    .dataframe tbody tr th:only-of-type {\n",
              "        vertical-align: middle;\n",
              "    }\n",
              "\n",
              "    .dataframe tbody tr th {\n",
              "        vertical-align: top;\n",
              "    }\n",
              "\n",
              "    .dataframe thead th {\n",
              "        text-align: right;\n",
              "    }\n",
              "</style>\n",
              "<table border=\"1\" class=\"dataframe\">\n",
              "  <thead>\n",
              "    <tr style=\"text-align: right;\">\n",
              "      <th></th>\n",
              "      <th>product_id</th>\n",
              "      <th>product_total_purchases</th>\n",
              "      <th>product_reorder_ratio</th>\n",
              "    </tr>\n",
              "  </thead>\n",
              "  <tbody>\n",
              "    <tr>\n",
              "      <th>0</th>\n",
              "      <td>1</td>\n",
              "      <td>1549</td>\n",
              "      <td>0.678502</td>\n",
              "    </tr>\n",
              "    <tr>\n",
              "      <th>1</th>\n",
              "      <td>2</td>\n",
              "      <td>80</td>\n",
              "      <td>0.137500</td>\n",
              "    </tr>\n",
              "    <tr>\n",
              "      <th>2</th>\n",
              "      <td>3</td>\n",
              "      <td>242</td>\n",
              "      <td>0.789256</td>\n",
              "    </tr>\n",
              "    <tr>\n",
              "      <th>3</th>\n",
              "      <td>4</td>\n",
              "      <td>215</td>\n",
              "      <td>0.488372</td>\n",
              "    </tr>\n",
              "    <tr>\n",
              "      <th>4</th>\n",
              "      <td>5</td>\n",
              "      <td>11</td>\n",
              "      <td>0.727273</td>\n",
              "    </tr>\n",
              "  </tbody>\n",
              "</table>\n",
              "</div>"
            ],
            "text/plain": [
              "   product_id  product_total_purchases  product_reorder_ratio\n",
              "0           1                     1549               0.678502\n",
              "1           2                       80               0.137500\n",
              "2           3                      242               0.789256\n",
              "3           4                      215               0.488372\n",
              "4           5                       11               0.727273"
            ]
          },
          "metadata": {
            "tags": []
          },
          "execution_count": 15
        }
      ]
    },
    {
      "cell_type": "code",
      "metadata": {
        "id": "9k78kfhsoKZa",
        "colab": {
          "base_uri": "https://localhost:8080/",
          "height": 202
        },
        "outputId": "e7e0a12e-4187-46d6-f589-aff99c948cf2"
      },
      "source": [
        "#находим общее количество товаров по каждой паре \"пользователь/товар\", сортируем столбец по убыванию 'user_product_total_purchases'\r\n",
        "df_user_product_purchases = df_transactions.groupby(['user_id', 'product_id'])['order_id'].count().to_frame('user_product_total_purchases').reset_index()\r\n",
        "df_user_product_purchases = df_user_product_purchases.sort_values(by=['user_id', 'user_product_total_purchases'], ascending = [True, False])\r\n",
        "df_user_product_purchases.head()"
      ],
      "execution_count": 17,
      "outputs": [
        {
          "output_type": "execute_result",
          "data": {
            "text/html": [
              "<div>\n",
              "<style scoped>\n",
              "    .dataframe tbody tr th:only-of-type {\n",
              "        vertical-align: middle;\n",
              "    }\n",
              "\n",
              "    .dataframe tbody tr th {\n",
              "        vertical-align: top;\n",
              "    }\n",
              "\n",
              "    .dataframe thead th {\n",
              "        text-align: right;\n",
              "    }\n",
              "</style>\n",
              "<table border=\"1\" class=\"dataframe\">\n",
              "  <thead>\n",
              "    <tr style=\"text-align: right;\">\n",
              "      <th></th>\n",
              "      <th>user_id</th>\n",
              "      <th>product_id</th>\n",
              "      <th>user_product_total_purchases</th>\n",
              "    </tr>\n",
              "  </thead>\n",
              "  <tbody>\n",
              "    <tr>\n",
              "      <th>0</th>\n",
              "      <td>1</td>\n",
              "      <td>196</td>\n",
              "      <td>10</td>\n",
              "    </tr>\n",
              "    <tr>\n",
              "      <th>3</th>\n",
              "      <td>1</td>\n",
              "      <td>12427</td>\n",
              "      <td>10</td>\n",
              "    </tr>\n",
              "    <tr>\n",
              "      <th>1</th>\n",
              "      <td>1</td>\n",
              "      <td>10258</td>\n",
              "      <td>9</td>\n",
              "    </tr>\n",
              "    <tr>\n",
              "      <th>8</th>\n",
              "      <td>1</td>\n",
              "      <td>25133</td>\n",
              "      <td>8</td>\n",
              "    </tr>\n",
              "    <tr>\n",
              "      <th>4</th>\n",
              "      <td>1</td>\n",
              "      <td>13032</td>\n",
              "      <td>3</td>\n",
              "    </tr>\n",
              "  </tbody>\n",
              "</table>\n",
              "</div>"
            ],
            "text/plain": [
              "   user_id  product_id  user_product_total_purchases\n",
              "0        1         196                            10\n",
              "3        1       12427                            10\n",
              "1        1       10258                             9\n",
              "8        1       25133                             8\n",
              "4        1       13032                             3"
            ]
          },
          "metadata": {
            "tags": []
          },
          "execution_count": 17
        }
      ]
    },
    {
      "cell_type": "code",
      "metadata": {
        "colab": {
          "base_uri": "https://localhost:8080/",
          "height": 233
        },
        "id": "7jy8EzM7A_E_",
        "outputId": "a2318e95-5528-4796-cfae-0e3e3bf9d5f1"
      },
      "source": [
        "df_total_orders = df_transactions.groupby('user_id')['order_number'].max().to_frame('total_orders')\r\n",
        "df_total_orders.head()"
      ],
      "execution_count": 18,
      "outputs": [
        {
          "output_type": "execute_result",
          "data": {
            "text/html": [
              "<div>\n",
              "<style scoped>\n",
              "    .dataframe tbody tr th:only-of-type {\n",
              "        vertical-align: middle;\n",
              "    }\n",
              "\n",
              "    .dataframe tbody tr th {\n",
              "        vertical-align: top;\n",
              "    }\n",
              "\n",
              "    .dataframe thead th {\n",
              "        text-align: right;\n",
              "    }\n",
              "</style>\n",
              "<table border=\"1\" class=\"dataframe\">\n",
              "  <thead>\n",
              "    <tr style=\"text-align: right;\">\n",
              "      <th></th>\n",
              "      <th>total_orders</th>\n",
              "    </tr>\n",
              "    <tr>\n",
              "      <th>user_id</th>\n",
              "      <th></th>\n",
              "    </tr>\n",
              "  </thead>\n",
              "  <tbody>\n",
              "    <tr>\n",
              "      <th>1</th>\n",
              "      <td>10</td>\n",
              "    </tr>\n",
              "    <tr>\n",
              "      <th>2</th>\n",
              "      <td>14</td>\n",
              "    </tr>\n",
              "    <tr>\n",
              "      <th>3</th>\n",
              "      <td>11</td>\n",
              "    </tr>\n",
              "    <tr>\n",
              "      <th>7</th>\n",
              "      <td>20</td>\n",
              "    </tr>\n",
              "    <tr>\n",
              "      <th>13</th>\n",
              "      <td>12</td>\n",
              "    </tr>\n",
              "  </tbody>\n",
              "</table>\n",
              "</div>"
            ],
            "text/plain": [
              "         total_orders\n",
              "user_id              \n",
              "1                  10\n",
              "2                  14\n",
              "3                  11\n",
              "7                  20\n",
              "13                 12"
            ]
          },
          "metadata": {
            "tags": []
          },
          "execution_count": 18
        }
      ]
    },
    {
      "cell_type": "code",
      "metadata": {
        "colab": {
          "base_uri": "https://localhost:8080/",
          "height": 202
        },
        "id": "da5DsxnyoKdo",
        "outputId": "6145159b-96a5-4452-eb25-68b5c3eb22f8"
      },
      "source": [
        "#формируем датафрейм с номерами заказов, в которых впервые встречается каждая пара \"пользователь/товар\"\r\n",
        "df_first_order = df_transactions.groupby(['user_id', 'product_id'])['order_number'].min().to_frame('first_order_number').reset_index()\r\n",
        "df_first_order.head()"
      ],
      "execution_count": 19,
      "outputs": [
        {
          "output_type": "execute_result",
          "data": {
            "text/html": [
              "<div>\n",
              "<style scoped>\n",
              "    .dataframe tbody tr th:only-of-type {\n",
              "        vertical-align: middle;\n",
              "    }\n",
              "\n",
              "    .dataframe tbody tr th {\n",
              "        vertical-align: top;\n",
              "    }\n",
              "\n",
              "    .dataframe thead th {\n",
              "        text-align: right;\n",
              "    }\n",
              "</style>\n",
              "<table border=\"1\" class=\"dataframe\">\n",
              "  <thead>\n",
              "    <tr style=\"text-align: right;\">\n",
              "      <th></th>\n",
              "      <th>user_id</th>\n",
              "      <th>product_id</th>\n",
              "      <th>first_order_number</th>\n",
              "    </tr>\n",
              "  </thead>\n",
              "  <tbody>\n",
              "    <tr>\n",
              "      <th>0</th>\n",
              "      <td>1</td>\n",
              "      <td>196</td>\n",
              "      <td>1</td>\n",
              "    </tr>\n",
              "    <tr>\n",
              "      <th>1</th>\n",
              "      <td>1</td>\n",
              "      <td>10258</td>\n",
              "      <td>2</td>\n",
              "    </tr>\n",
              "    <tr>\n",
              "      <th>2</th>\n",
              "      <td>1</td>\n",
              "      <td>10326</td>\n",
              "      <td>5</td>\n",
              "    </tr>\n",
              "    <tr>\n",
              "      <th>3</th>\n",
              "      <td>1</td>\n",
              "      <td>12427</td>\n",
              "      <td>1</td>\n",
              "    </tr>\n",
              "    <tr>\n",
              "      <th>4</th>\n",
              "      <td>1</td>\n",
              "      <td>13032</td>\n",
              "      <td>2</td>\n",
              "    </tr>\n",
              "  </tbody>\n",
              "</table>\n",
              "</div>"
            ],
            "text/plain": [
              "   user_id  product_id  first_order_number\n",
              "0        1         196                   1\n",
              "1        1       10258                   2\n",
              "2        1       10326                   5\n",
              "3        1       12427                   1\n",
              "4        1       13032                   2"
            ]
          },
          "metadata": {
            "tags": []
          },
          "execution_count": 19
        }
      ]
    },
    {
      "cell_type": "code",
      "metadata": {
        "colab": {
          "base_uri": "https://localhost:8080/",
          "height": 202
        },
        "id": "lVWj-9NQmxcp",
        "outputId": "e28febfe-8d45-4c00-ca76-604d3e47f02a"
      },
      "source": [
        "#формируем датафрейм как объединение df_total_orders и df_first_order\r\n",
        "df_span = pd.merge(df_total_orders, df_first_order, on='user_id', how='right')\r\n",
        "df_span.head()"
      ],
      "execution_count": 20,
      "outputs": [
        {
          "output_type": "execute_result",
          "data": {
            "text/html": [
              "<div>\n",
              "<style scoped>\n",
              "    .dataframe tbody tr th:only-of-type {\n",
              "        vertical-align: middle;\n",
              "    }\n",
              "\n",
              "    .dataframe tbody tr th {\n",
              "        vertical-align: top;\n",
              "    }\n",
              "\n",
              "    .dataframe thead th {\n",
              "        text-align: right;\n",
              "    }\n",
              "</style>\n",
              "<table border=\"1\" class=\"dataframe\">\n",
              "  <thead>\n",
              "    <tr style=\"text-align: right;\">\n",
              "      <th></th>\n",
              "      <th>user_id</th>\n",
              "      <th>total_orders</th>\n",
              "      <th>product_id</th>\n",
              "      <th>first_order_number</th>\n",
              "    </tr>\n",
              "  </thead>\n",
              "  <tbody>\n",
              "    <tr>\n",
              "      <th>0</th>\n",
              "      <td>1</td>\n",
              "      <td>10</td>\n",
              "      <td>196</td>\n",
              "      <td>1</td>\n",
              "    </tr>\n",
              "    <tr>\n",
              "      <th>1</th>\n",
              "      <td>1</td>\n",
              "      <td>10</td>\n",
              "      <td>10258</td>\n",
              "      <td>2</td>\n",
              "    </tr>\n",
              "    <tr>\n",
              "      <th>2</th>\n",
              "      <td>1</td>\n",
              "      <td>10</td>\n",
              "      <td>10326</td>\n",
              "      <td>5</td>\n",
              "    </tr>\n",
              "    <tr>\n",
              "      <th>3</th>\n",
              "      <td>1</td>\n",
              "      <td>10</td>\n",
              "      <td>12427</td>\n",
              "      <td>1</td>\n",
              "    </tr>\n",
              "    <tr>\n",
              "      <th>4</th>\n",
              "      <td>1</td>\n",
              "      <td>10</td>\n",
              "      <td>13032</td>\n",
              "      <td>2</td>\n",
              "    </tr>\n",
              "  </tbody>\n",
              "</table>\n",
              "</div>"
            ],
            "text/plain": [
              "   user_id  total_orders  product_id  first_order_number\n",
              "0        1            10         196                   1\n",
              "1        1            10       10258                   2\n",
              "2        1            10       10326                   5\n",
              "3        1            10       12427                   1\n",
              "4        1            10       13032                   2"
            ]
          },
          "metadata": {
            "tags": []
          },
          "execution_count": 20
        }
      ]
    },
    {
      "cell_type": "code",
      "metadata": {
        "colab": {
          "base_uri": "https://localhost:8080/",
          "height": 202
        },
        "id": "RU3pZFX3oeCA",
        "outputId": "7e5aa6ee-2f43-47b4-b105-3638109ad6fd"
      },
      "source": [
        "#добавляем столбец 'order_range_denominator', представляющий разность между общим количеством заказов и первым заказом\r\n",
        "#по каждой паре \"пользователь/товар\", сортируем 'order_range_denominator' по убыванию\r\n",
        "df_span['order_range_denominator'] = df_span['total_orders'] - df_span['first_order_number'] + 1\r\n",
        "df_span = df_span.sort_values(by=['user_id', 'order_range_denominator'], ascending = [True, False])\r\n",
        "df_span.head()"
      ],
      "execution_count": 21,
      "outputs": [
        {
          "output_type": "execute_result",
          "data": {
            "text/html": [
              "<div>\n",
              "<style scoped>\n",
              "    .dataframe tbody tr th:only-of-type {\n",
              "        vertical-align: middle;\n",
              "    }\n",
              "\n",
              "    .dataframe tbody tr th {\n",
              "        vertical-align: top;\n",
              "    }\n",
              "\n",
              "    .dataframe thead th {\n",
              "        text-align: right;\n",
              "    }\n",
              "</style>\n",
              "<table border=\"1\" class=\"dataframe\">\n",
              "  <thead>\n",
              "    <tr style=\"text-align: right;\">\n",
              "      <th></th>\n",
              "      <th>user_id</th>\n",
              "      <th>total_orders</th>\n",
              "      <th>product_id</th>\n",
              "      <th>first_order_number</th>\n",
              "      <th>order_range_denominator</th>\n",
              "    </tr>\n",
              "  </thead>\n",
              "  <tbody>\n",
              "    <tr>\n",
              "      <th>0</th>\n",
              "      <td>1</td>\n",
              "      <td>10</td>\n",
              "      <td>196</td>\n",
              "      <td>1</td>\n",
              "      <td>10</td>\n",
              "    </tr>\n",
              "    <tr>\n",
              "      <th>3</th>\n",
              "      <td>1</td>\n",
              "      <td>10</td>\n",
              "      <td>12427</td>\n",
              "      <td>1</td>\n",
              "      <td>10</td>\n",
              "    </tr>\n",
              "    <tr>\n",
              "      <th>6</th>\n",
              "      <td>1</td>\n",
              "      <td>10</td>\n",
              "      <td>14084</td>\n",
              "      <td>1</td>\n",
              "      <td>10</td>\n",
              "    </tr>\n",
              "    <tr>\n",
              "      <th>9</th>\n",
              "      <td>1</td>\n",
              "      <td>10</td>\n",
              "      <td>26088</td>\n",
              "      <td>1</td>\n",
              "      <td>10</td>\n",
              "    </tr>\n",
              "    <tr>\n",
              "      <th>10</th>\n",
              "      <td>1</td>\n",
              "      <td>10</td>\n",
              "      <td>26405</td>\n",
              "      <td>1</td>\n",
              "      <td>10</td>\n",
              "    </tr>\n",
              "  </tbody>\n",
              "</table>\n",
              "</div>"
            ],
            "text/plain": [
              "    user_id  total_orders  ...  first_order_number  order_range_denominator\n",
              "0         1            10  ...                   1                       10\n",
              "3         1            10  ...                   1                       10\n",
              "6         1            10  ...                   1                       10\n",
              "9         1            10  ...                   1                       10\n",
              "10        1            10  ...                   1                       10\n",
              "\n",
              "[5 rows x 5 columns]"
            ]
          },
          "metadata": {
            "tags": []
          },
          "execution_count": 21
        }
      ]
    },
    {
      "cell_type": "code",
      "metadata": {
        "colab": {
          "base_uri": "https://localhost:8080/",
          "height": 222
        },
        "id": "XfLNb-NOoeGu",
        "outputId": "50a189fe-354f-478c-ca08-0b9f5dbcd271"
      },
      "source": [
        "#объединяем df_user_product_purchases и df_span\r\n",
        "df_user_product_ratio = pd.merge(df_user_product_purchases, df_span, on=['user_id', 'product_id'], how='left')\r\n",
        "df_user_product_ratio.head()"
      ],
      "execution_count": 22,
      "outputs": [
        {
          "output_type": "execute_result",
          "data": {
            "text/html": [
              "<div>\n",
              "<style scoped>\n",
              "    .dataframe tbody tr th:only-of-type {\n",
              "        vertical-align: middle;\n",
              "    }\n",
              "\n",
              "    .dataframe tbody tr th {\n",
              "        vertical-align: top;\n",
              "    }\n",
              "\n",
              "    .dataframe thead th {\n",
              "        text-align: right;\n",
              "    }\n",
              "</style>\n",
              "<table border=\"1\" class=\"dataframe\">\n",
              "  <thead>\n",
              "    <tr style=\"text-align: right;\">\n",
              "      <th></th>\n",
              "      <th>user_id</th>\n",
              "      <th>product_id</th>\n",
              "      <th>user_product_total_purchases</th>\n",
              "      <th>total_orders</th>\n",
              "      <th>first_order_number</th>\n",
              "      <th>order_range_denominator</th>\n",
              "    </tr>\n",
              "  </thead>\n",
              "  <tbody>\n",
              "    <tr>\n",
              "      <th>0</th>\n",
              "      <td>1</td>\n",
              "      <td>196</td>\n",
              "      <td>10</td>\n",
              "      <td>10</td>\n",
              "      <td>1</td>\n",
              "      <td>10</td>\n",
              "    </tr>\n",
              "    <tr>\n",
              "      <th>1</th>\n",
              "      <td>1</td>\n",
              "      <td>12427</td>\n",
              "      <td>10</td>\n",
              "      <td>10</td>\n",
              "      <td>1</td>\n",
              "      <td>10</td>\n",
              "    </tr>\n",
              "    <tr>\n",
              "      <th>2</th>\n",
              "      <td>1</td>\n",
              "      <td>10258</td>\n",
              "      <td>9</td>\n",
              "      <td>10</td>\n",
              "      <td>2</td>\n",
              "      <td>9</td>\n",
              "    </tr>\n",
              "    <tr>\n",
              "      <th>3</th>\n",
              "      <td>1</td>\n",
              "      <td>25133</td>\n",
              "      <td>8</td>\n",
              "      <td>10</td>\n",
              "      <td>3</td>\n",
              "      <td>8</td>\n",
              "    </tr>\n",
              "    <tr>\n",
              "      <th>4</th>\n",
              "      <td>1</td>\n",
              "      <td>13032</td>\n",
              "      <td>3</td>\n",
              "      <td>10</td>\n",
              "      <td>2</td>\n",
              "      <td>9</td>\n",
              "    </tr>\n",
              "  </tbody>\n",
              "</table>\n",
              "</div>"
            ],
            "text/plain": [
              "   user_id  product_id  ...  first_order_number  order_range_denominator\n",
              "0        1         196  ...                   1                       10\n",
              "1        1       12427  ...                   1                       10\n",
              "2        1       10258  ...                   2                        9\n",
              "3        1       25133  ...                   3                        8\n",
              "4        1       13032  ...                   2                        9\n",
              "\n",
              "[5 rows x 6 columns]"
            ]
          },
          "metadata": {
            "tags": []
          },
          "execution_count": 22
        }
      ]
    },
    {
      "cell_type": "code",
      "metadata": {
        "colab": {
          "base_uri": "https://localhost:8080/",
          "height": 222
        },
        "id": "FVxC5ad_oeKO",
        "outputId": "6d0bafce-ce16-4d9c-dc44-29fd6e59b388"
      },
      "source": [
        "#добавляем столбец 'user_product_reorder_ratio', представляющий собой отношение \r\n",
        "#общего кол-ва покупок к деноминатору заказа по каждой паре \"пользователь/товар\"\r\n",
        "#сортируем 'user_product_reorder_ratio' по убыванию\r\n",
        "df_user_product_ratio['user_product_reorder_ratio'] = df_user_product_ratio['user_product_total_purchases'] / df_user_product_ratio['order_range_denominator']\r\n",
        "df_user_product_ratio = df_user_product_ratio.sort_values(by=['user_id', 'user_product_reorder_ratio'], ascending=[True, False])\r\n",
        "df_user_product_ratio.head()"
      ],
      "execution_count": 23,
      "outputs": [
        {
          "output_type": "execute_result",
          "data": {
            "text/html": [
              "<div>\n",
              "<style scoped>\n",
              "    .dataframe tbody tr th:only-of-type {\n",
              "        vertical-align: middle;\n",
              "    }\n",
              "\n",
              "    .dataframe tbody tr th {\n",
              "        vertical-align: top;\n",
              "    }\n",
              "\n",
              "    .dataframe thead th {\n",
              "        text-align: right;\n",
              "    }\n",
              "</style>\n",
              "<table border=\"1\" class=\"dataframe\">\n",
              "  <thead>\n",
              "    <tr style=\"text-align: right;\">\n",
              "      <th></th>\n",
              "      <th>user_id</th>\n",
              "      <th>product_id</th>\n",
              "      <th>user_product_total_purchases</th>\n",
              "      <th>total_orders</th>\n",
              "      <th>first_order_number</th>\n",
              "      <th>order_range_denominator</th>\n",
              "      <th>user_product_reorder_ratio</th>\n",
              "    </tr>\n",
              "  </thead>\n",
              "  <tbody>\n",
              "    <tr>\n",
              "      <th>0</th>\n",
              "      <td>1</td>\n",
              "      <td>196</td>\n",
              "      <td>10</td>\n",
              "      <td>10</td>\n",
              "      <td>1</td>\n",
              "      <td>10</td>\n",
              "      <td>1.0</td>\n",
              "    </tr>\n",
              "    <tr>\n",
              "      <th>1</th>\n",
              "      <td>1</td>\n",
              "      <td>12427</td>\n",
              "      <td>10</td>\n",
              "      <td>10</td>\n",
              "      <td>1</td>\n",
              "      <td>10</td>\n",
              "      <td>1.0</td>\n",
              "    </tr>\n",
              "    <tr>\n",
              "      <th>2</th>\n",
              "      <td>1</td>\n",
              "      <td>10258</td>\n",
              "      <td>9</td>\n",
              "      <td>10</td>\n",
              "      <td>2</td>\n",
              "      <td>9</td>\n",
              "      <td>1.0</td>\n",
              "    </tr>\n",
              "    <tr>\n",
              "      <th>3</th>\n",
              "      <td>1</td>\n",
              "      <td>25133</td>\n",
              "      <td>8</td>\n",
              "      <td>10</td>\n",
              "      <td>3</td>\n",
              "      <td>8</td>\n",
              "      <td>1.0</td>\n",
              "    </tr>\n",
              "    <tr>\n",
              "      <th>5</th>\n",
              "      <td>1</td>\n",
              "      <td>46149</td>\n",
              "      <td>3</td>\n",
              "      <td>10</td>\n",
              "      <td>8</td>\n",
              "      <td>3</td>\n",
              "      <td>1.0</td>\n",
              "    </tr>\n",
              "  </tbody>\n",
              "</table>\n",
              "</div>"
            ],
            "text/plain": [
              "   user_id  product_id  ...  order_range_denominator  user_product_reorder_ratio\n",
              "0        1         196  ...                       10                         1.0\n",
              "1        1       12427  ...                       10                         1.0\n",
              "2        1       10258  ...                        9                         1.0\n",
              "3        1       25133  ...                        8                         1.0\n",
              "5        1       46149  ...                        3                         1.0\n",
              "\n",
              "[5 rows x 7 columns]"
            ]
          },
          "metadata": {
            "tags": []
          },
          "execution_count": 23
        }
      ]
    },
    {
      "cell_type": "code",
      "metadata": {
        "colab": {
          "base_uri": "https://localhost:8080/",
          "height": 202
        },
        "id": "wLdBaZrWorKr",
        "outputId": "f45dce5f-eeac-4799-fb76-8e31ee600f8c"
      },
      "source": [
        "del df_user_product_ratio['user_product_total_purchases']\r\n",
        "del df_user_product_ratio['total_orders']\r\n",
        "del df_user_product_ratio['first_order_number']\r\n",
        "del df_user_product_ratio['order_range_denominator']\r\n",
        "gc.collect()\r\n",
        "df_user_product_ratio.head()"
      ],
      "execution_count": 24,
      "outputs": [
        {
          "output_type": "execute_result",
          "data": {
            "text/html": [
              "<div>\n",
              "<style scoped>\n",
              "    .dataframe tbody tr th:only-of-type {\n",
              "        vertical-align: middle;\n",
              "    }\n",
              "\n",
              "    .dataframe tbody tr th {\n",
              "        vertical-align: top;\n",
              "    }\n",
              "\n",
              "    .dataframe thead th {\n",
              "        text-align: right;\n",
              "    }\n",
              "</style>\n",
              "<table border=\"1\" class=\"dataframe\">\n",
              "  <thead>\n",
              "    <tr style=\"text-align: right;\">\n",
              "      <th></th>\n",
              "      <th>user_id</th>\n",
              "      <th>product_id</th>\n",
              "      <th>user_product_reorder_ratio</th>\n",
              "    </tr>\n",
              "  </thead>\n",
              "  <tbody>\n",
              "    <tr>\n",
              "      <th>0</th>\n",
              "      <td>1</td>\n",
              "      <td>196</td>\n",
              "      <td>1.0</td>\n",
              "    </tr>\n",
              "    <tr>\n",
              "      <th>1</th>\n",
              "      <td>1</td>\n",
              "      <td>12427</td>\n",
              "      <td>1.0</td>\n",
              "    </tr>\n",
              "    <tr>\n",
              "      <th>2</th>\n",
              "      <td>1</td>\n",
              "      <td>10258</td>\n",
              "      <td>1.0</td>\n",
              "    </tr>\n",
              "    <tr>\n",
              "      <th>3</th>\n",
              "      <td>1</td>\n",
              "      <td>25133</td>\n",
              "      <td>1.0</td>\n",
              "    </tr>\n",
              "    <tr>\n",
              "      <th>5</th>\n",
              "      <td>1</td>\n",
              "      <td>46149</td>\n",
              "      <td>1.0</td>\n",
              "    </tr>\n",
              "  </tbody>\n",
              "</table>\n",
              "</div>"
            ],
            "text/plain": [
              "   user_id  product_id  user_product_reorder_ratio\n",
              "0        1         196                         1.0\n",
              "1        1       12427                         1.0\n",
              "2        1       10258                         1.0\n",
              "3        1       25133                         1.0\n",
              "5        1       46149                         1.0"
            ]
          },
          "metadata": {
            "tags": []
          },
          "execution_count": 24
        }
      ]
    },
    {
      "cell_type": "code",
      "metadata": {
        "colab": {
          "base_uri": "https://localhost:8080/"
        },
        "id": "yqC_VeTdorZI",
        "outputId": "abbe9303-7475-4b60-dd69-1384b9da869f"
      },
      "source": [
        "del df_span\r\n",
        "del df_first_order\r\n",
        "gc.collect()"
      ],
      "execution_count": 25,
      "outputs": [
        {
          "output_type": "execute_result",
          "data": {
            "text/plain": [
              "12"
            ]
          },
          "metadata": {
            "tags": []
          },
          "execution_count": 25
        }
      ]
    },
    {
      "cell_type": "code",
      "metadata": {
        "colab": {
          "base_uri": "https://localhost:8080/",
          "height": 202
        },
        "id": "m0qreLv6orql",
        "outputId": "b6762aa8-b648-4deb-d5f0-ede2cdbb38bb"
      },
      "source": [
        "#объединяем df_user_product_ratio и df_user_product_purchases\r\n",
        "#сортируем 'user_product_reorder_ratio' по убыванию\r\n",
        "df_user_product_purchases = df_user_product_purchases.merge(df_user_product_ratio, on=['user_id', 'product_id'], how='left')\r\n",
        "df_user_product_purchases = df_user_product_purchases.sort_values(by=['user_id', 'user_product_reorder_ratio'], ascending=[True, False])\r\n",
        "df_user_product_purchases.head()"
      ],
      "execution_count": 26,
      "outputs": [
        {
          "output_type": "execute_result",
          "data": {
            "text/html": [
              "<div>\n",
              "<style scoped>\n",
              "    .dataframe tbody tr th:only-of-type {\n",
              "        vertical-align: middle;\n",
              "    }\n",
              "\n",
              "    .dataframe tbody tr th {\n",
              "        vertical-align: top;\n",
              "    }\n",
              "\n",
              "    .dataframe thead th {\n",
              "        text-align: right;\n",
              "    }\n",
              "</style>\n",
              "<table border=\"1\" class=\"dataframe\">\n",
              "  <thead>\n",
              "    <tr style=\"text-align: right;\">\n",
              "      <th></th>\n",
              "      <th>user_id</th>\n",
              "      <th>product_id</th>\n",
              "      <th>user_product_total_purchases</th>\n",
              "      <th>user_product_reorder_ratio</th>\n",
              "    </tr>\n",
              "  </thead>\n",
              "  <tbody>\n",
              "    <tr>\n",
              "      <th>0</th>\n",
              "      <td>1</td>\n",
              "      <td>196</td>\n",
              "      <td>10</td>\n",
              "      <td>1.0</td>\n",
              "    </tr>\n",
              "    <tr>\n",
              "      <th>1</th>\n",
              "      <td>1</td>\n",
              "      <td>12427</td>\n",
              "      <td>10</td>\n",
              "      <td>1.0</td>\n",
              "    </tr>\n",
              "    <tr>\n",
              "      <th>2</th>\n",
              "      <td>1</td>\n",
              "      <td>10258</td>\n",
              "      <td>9</td>\n",
              "      <td>1.0</td>\n",
              "    </tr>\n",
              "    <tr>\n",
              "      <th>3</th>\n",
              "      <td>1</td>\n",
              "      <td>25133</td>\n",
              "      <td>8</td>\n",
              "      <td>1.0</td>\n",
              "    </tr>\n",
              "    <tr>\n",
              "      <th>5</th>\n",
              "      <td>1</td>\n",
              "      <td>46149</td>\n",
              "      <td>3</td>\n",
              "      <td>1.0</td>\n",
              "    </tr>\n",
              "  </tbody>\n",
              "</table>\n",
              "</div>"
            ],
            "text/plain": [
              "   user_id  ...  user_product_reorder_ratio\n",
              "0        1  ...                         1.0\n",
              "1        1  ...                         1.0\n",
              "2        1  ...                         1.0\n",
              "3        1  ...                         1.0\n",
              "5        1  ...                         1.0\n",
              "\n",
              "[5 rows x 4 columns]"
            ]
          },
          "metadata": {
            "tags": []
          },
          "execution_count": 26
        }
      ]
    },
    {
      "cell_type": "code",
      "metadata": {
        "colab": {
          "base_uri": "https://localhost:8080/"
        },
        "id": "qjp-2VdOo58k",
        "outputId": "4a6ea7da-258b-4e06-e699-d047fc41c5f9"
      },
      "source": [
        "del df_user_product_ratio\r\n",
        "gc.collect()"
      ],
      "execution_count": 27,
      "outputs": [
        {
          "output_type": "execute_result",
          "data": {
            "text/plain": [
              "12"
            ]
          },
          "metadata": {
            "tags": []
          },
          "execution_count": 27
        }
      ]
    },
    {
      "cell_type": "code",
      "metadata": {
        "colab": {
          "base_uri": "https://localhost:8080/",
          "height": 222
        },
        "id": "BQJTivnMo6Hk",
        "outputId": "9f2ab9c1-d054-4cc1-a17a-7562b7cb589c"
      },
      "source": [
        "#добавляем столбец 'back_order_no', который представляет собой разницу между максимальным значением по столбцу 'order_number' \r\n",
        "#для каждого пользователя и текущим номером заказа\r\n",
        "df_transactions['back_order_no'] = df_transactions.groupby('user_id')['order_number'].transform(max) - df_transactions['order_number'] + 1\r\n",
        "df_transactions.head()"
      ],
      "execution_count": 28,
      "outputs": [
        {
          "output_type": "execute_result",
          "data": {
            "text/html": [
              "<div>\n",
              "<style scoped>\n",
              "    .dataframe tbody tr th:only-of-type {\n",
              "        vertical-align: middle;\n",
              "    }\n",
              "\n",
              "    .dataframe tbody tr th {\n",
              "        vertical-align: top;\n",
              "    }\n",
              "\n",
              "    .dataframe thead th {\n",
              "        text-align: right;\n",
              "    }\n",
              "</style>\n",
              "<table border=\"1\" class=\"dataframe\">\n",
              "  <thead>\n",
              "    <tr style=\"text-align: right;\">\n",
              "      <th></th>\n",
              "      <th>order_id</th>\n",
              "      <th>user_id</th>\n",
              "      <th>order_number</th>\n",
              "      <th>order_dow</th>\n",
              "      <th>order_hour_of_day</th>\n",
              "      <th>days_since_prior_order</th>\n",
              "      <th>product_id</th>\n",
              "      <th>add_to_cart_order</th>\n",
              "      <th>reordered</th>\n",
              "      <th>user_total_orders</th>\n",
              "      <th>diff</th>\n",
              "      <th>back_order_no</th>\n",
              "    </tr>\n",
              "  </thead>\n",
              "  <tbody>\n",
              "    <tr>\n",
              "      <th>0</th>\n",
              "      <td>2539329</td>\n",
              "      <td>1</td>\n",
              "      <td>1</td>\n",
              "      <td>2</td>\n",
              "      <td>8</td>\n",
              "      <td>NaN</td>\n",
              "      <td>196</td>\n",
              "      <td>1.0</td>\n",
              "      <td>0.0</td>\n",
              "      <td>10</td>\n",
              "      <td>9</td>\n",
              "      <td>10</td>\n",
              "    </tr>\n",
              "    <tr>\n",
              "      <th>1</th>\n",
              "      <td>2539329</td>\n",
              "      <td>1</td>\n",
              "      <td>1</td>\n",
              "      <td>2</td>\n",
              "      <td>8</td>\n",
              "      <td>NaN</td>\n",
              "      <td>14084</td>\n",
              "      <td>2.0</td>\n",
              "      <td>0.0</td>\n",
              "      <td>10</td>\n",
              "      <td>9</td>\n",
              "      <td>10</td>\n",
              "    </tr>\n",
              "    <tr>\n",
              "      <th>2</th>\n",
              "      <td>2539329</td>\n",
              "      <td>1</td>\n",
              "      <td>1</td>\n",
              "      <td>2</td>\n",
              "      <td>8</td>\n",
              "      <td>NaN</td>\n",
              "      <td>12427</td>\n",
              "      <td>3.0</td>\n",
              "      <td>0.0</td>\n",
              "      <td>10</td>\n",
              "      <td>9</td>\n",
              "      <td>10</td>\n",
              "    </tr>\n",
              "    <tr>\n",
              "      <th>3</th>\n",
              "      <td>2539329</td>\n",
              "      <td>1</td>\n",
              "      <td>1</td>\n",
              "      <td>2</td>\n",
              "      <td>8</td>\n",
              "      <td>NaN</td>\n",
              "      <td>26088</td>\n",
              "      <td>4.0</td>\n",
              "      <td>0.0</td>\n",
              "      <td>10</td>\n",
              "      <td>9</td>\n",
              "      <td>10</td>\n",
              "    </tr>\n",
              "    <tr>\n",
              "      <th>4</th>\n",
              "      <td>2539329</td>\n",
              "      <td>1</td>\n",
              "      <td>1</td>\n",
              "      <td>2</td>\n",
              "      <td>8</td>\n",
              "      <td>NaN</td>\n",
              "      <td>26405</td>\n",
              "      <td>5.0</td>\n",
              "      <td>0.0</td>\n",
              "      <td>10</td>\n",
              "      <td>9</td>\n",
              "      <td>10</td>\n",
              "    </tr>\n",
              "  </tbody>\n",
              "</table>\n",
              "</div>"
            ],
            "text/plain": [
              "   order_id  user_id  order_number  ...  user_total_orders  diff  back_order_no\n",
              "0   2539329        1             1  ...                 10     9             10\n",
              "1   2539329        1             1  ...                 10     9             10\n",
              "2   2539329        1             1  ...                 10     9             10\n",
              "3   2539329        1             1  ...                 10     9             10\n",
              "4   2539329        1             1  ...                 10     9             10\n",
              "\n",
              "[5 rows x 12 columns]"
            ]
          },
          "metadata": {
            "tags": []
          },
          "execution_count": 28
        }
      ]
    },
    {
      "cell_type": "code",
      "metadata": {
        "colab": {
          "base_uri": "https://localhost:8080/",
          "height": 222
        },
        "id": "Ez5V4jTvpI2h",
        "outputId": "68d779f2-5641-4fa8-9ac8-523c95457990"
      },
      "source": [
        "#формируем датафрейм, состоящий только из последних пяти заказов каждого пользователя\r\n",
        "df_transactions_5 = df_transactions.loc[df_transactions['back_order_no'] <= 5]\r\n",
        "df_transactions_5.head()"
      ],
      "execution_count": 29,
      "outputs": [
        {
          "output_type": "execute_result",
          "data": {
            "text/html": [
              "<div>\n",
              "<style scoped>\n",
              "    .dataframe tbody tr th:only-of-type {\n",
              "        vertical-align: middle;\n",
              "    }\n",
              "\n",
              "    .dataframe tbody tr th {\n",
              "        vertical-align: top;\n",
              "    }\n",
              "\n",
              "    .dataframe thead th {\n",
              "        text-align: right;\n",
              "    }\n",
              "</style>\n",
              "<table border=\"1\" class=\"dataframe\">\n",
              "  <thead>\n",
              "    <tr style=\"text-align: right;\">\n",
              "      <th></th>\n",
              "      <th>order_id</th>\n",
              "      <th>user_id</th>\n",
              "      <th>order_number</th>\n",
              "      <th>order_dow</th>\n",
              "      <th>order_hour_of_day</th>\n",
              "      <th>days_since_prior_order</th>\n",
              "      <th>product_id</th>\n",
              "      <th>add_to_cart_order</th>\n",
              "      <th>reordered</th>\n",
              "      <th>user_total_orders</th>\n",
              "      <th>diff</th>\n",
              "      <th>back_order_no</th>\n",
              "    </tr>\n",
              "  </thead>\n",
              "  <tbody>\n",
              "    <tr>\n",
              "      <th>29</th>\n",
              "      <td>3367565</td>\n",
              "      <td>1</td>\n",
              "      <td>6</td>\n",
              "      <td>2</td>\n",
              "      <td>7</td>\n",
              "      <td>19.0</td>\n",
              "      <td>196</td>\n",
              "      <td>1.0</td>\n",
              "      <td>1.0</td>\n",
              "      <td>10</td>\n",
              "      <td>4</td>\n",
              "      <td>5</td>\n",
              "    </tr>\n",
              "    <tr>\n",
              "      <th>30</th>\n",
              "      <td>3367565</td>\n",
              "      <td>1</td>\n",
              "      <td>6</td>\n",
              "      <td>2</td>\n",
              "      <td>7</td>\n",
              "      <td>19.0</td>\n",
              "      <td>12427</td>\n",
              "      <td>2.0</td>\n",
              "      <td>1.0</td>\n",
              "      <td>10</td>\n",
              "      <td>4</td>\n",
              "      <td>5</td>\n",
              "    </tr>\n",
              "    <tr>\n",
              "      <th>31</th>\n",
              "      <td>3367565</td>\n",
              "      <td>1</td>\n",
              "      <td>6</td>\n",
              "      <td>2</td>\n",
              "      <td>7</td>\n",
              "      <td>19.0</td>\n",
              "      <td>10258</td>\n",
              "      <td>3.0</td>\n",
              "      <td>1.0</td>\n",
              "      <td>10</td>\n",
              "      <td>4</td>\n",
              "      <td>5</td>\n",
              "    </tr>\n",
              "    <tr>\n",
              "      <th>32</th>\n",
              "      <td>3367565</td>\n",
              "      <td>1</td>\n",
              "      <td>6</td>\n",
              "      <td>2</td>\n",
              "      <td>7</td>\n",
              "      <td>19.0</td>\n",
              "      <td>25133</td>\n",
              "      <td>4.0</td>\n",
              "      <td>1.0</td>\n",
              "      <td>10</td>\n",
              "      <td>4</td>\n",
              "      <td>5</td>\n",
              "    </tr>\n",
              "    <tr>\n",
              "      <th>33</th>\n",
              "      <td>550135</td>\n",
              "      <td>1</td>\n",
              "      <td>7</td>\n",
              "      <td>1</td>\n",
              "      <td>9</td>\n",
              "      <td>20.0</td>\n",
              "      <td>196</td>\n",
              "      <td>1.0</td>\n",
              "      <td>1.0</td>\n",
              "      <td>10</td>\n",
              "      <td>3</td>\n",
              "      <td>4</td>\n",
              "    </tr>\n",
              "  </tbody>\n",
              "</table>\n",
              "</div>"
            ],
            "text/plain": [
              "    order_id  user_id  order_number  ...  user_total_orders  diff  back_order_no\n",
              "29   3367565        1             6  ...                 10     4              5\n",
              "30   3367565        1             6  ...                 10     4              5\n",
              "31   3367565        1             6  ...                 10     4              5\n",
              "32   3367565        1             6  ...                 10     4              5\n",
              "33    550135        1             7  ...                 10     3              4\n",
              "\n",
              "[5 rows x 12 columns]"
            ]
          },
          "metadata": {
            "tags": []
          },
          "execution_count": 29
        }
      ]
    },
    {
      "cell_type": "code",
      "metadata": {
        "colab": {
          "base_uri": "https://localhost:8080/"
        },
        "id": "lQXNKynStM8d",
        "outputId": "6980ade8-352c-47e9-de29-06db93f29f0d"
      },
      "source": [
        "del df_transactions\r\n",
        "gc.collect()"
      ],
      "execution_count": 30,
      "outputs": [
        {
          "output_type": "execute_result",
          "data": {
            "text/plain": [
              "37"
            ]
          },
          "metadata": {
            "tags": []
          },
          "execution_count": 30
        }
      ]
    },
    {
      "cell_type": "code",
      "metadata": {
        "id": "DLFKagpb3YWy"
      },
      "source": [
        "#создаем тренировочный и тестовый датасеты\r\n",
        "#train представляет собой все заказы, за исключением последних двух, test - последние два заказа всех пользователей\r\n",
        "train = df_transactions_5.loc[df_transactions_5['diff']>1]\r\n",
        "test = df_transactions_5.loc[df_transactions_5['diff']<=1]"
      ],
      "execution_count": 31,
      "outputs": []
    },
    {
      "cell_type": "code",
      "metadata": {
        "colab": {
          "base_uri": "https://localhost:8080/",
          "height": 233
        },
        "id": "DuT8GkjLpI8z",
        "outputId": "aadabe86-fd46-4956-c320-21b458426e26"
      },
      "source": [
        "#формируем датафрейм с количеством заказов, в которых присутствовали определенные товары в последних пяти заказах\r\n",
        "orders_5_train = train.groupby(['user_id','product_id'])[['order_id']].count()\r\n",
        "orders_5_train.columns = ['last_5']\r\n",
        "orders_5_train.head()"
      ],
      "execution_count": 32,
      "outputs": [
        {
          "output_type": "execute_result",
          "data": {
            "text/html": [
              "<div>\n",
              "<style scoped>\n",
              "    .dataframe tbody tr th:only-of-type {\n",
              "        vertical-align: middle;\n",
              "    }\n",
              "\n",
              "    .dataframe tbody tr th {\n",
              "        vertical-align: top;\n",
              "    }\n",
              "\n",
              "    .dataframe thead th {\n",
              "        text-align: right;\n",
              "    }\n",
              "</style>\n",
              "<table border=\"1\" class=\"dataframe\">\n",
              "  <thead>\n",
              "    <tr style=\"text-align: right;\">\n",
              "      <th></th>\n",
              "      <th></th>\n",
              "      <th>last_5</th>\n",
              "    </tr>\n",
              "    <tr>\n",
              "      <th>user_id</th>\n",
              "      <th>product_id</th>\n",
              "      <th></th>\n",
              "    </tr>\n",
              "  </thead>\n",
              "  <tbody>\n",
              "    <tr>\n",
              "      <th rowspan=\"5\" valign=\"top\">1</th>\n",
              "      <th>196</th>\n",
              "      <td>3</td>\n",
              "    </tr>\n",
              "    <tr>\n",
              "      <th>10258</th>\n",
              "      <td>3</td>\n",
              "    </tr>\n",
              "    <tr>\n",
              "      <th>12427</th>\n",
              "      <td>3</td>\n",
              "    </tr>\n",
              "    <tr>\n",
              "      <th>13032</th>\n",
              "      <td>1</td>\n",
              "    </tr>\n",
              "    <tr>\n",
              "      <th>25133</th>\n",
              "      <td>3</td>\n",
              "    </tr>\n",
              "  </tbody>\n",
              "</table>\n",
              "</div>"
            ],
            "text/plain": [
              "                    last_5\n",
              "user_id product_id        \n",
              "1       196              3\n",
              "        10258            3\n",
              "        12427            3\n",
              "        13032            1\n",
              "        25133            3"
            ]
          },
          "metadata": {
            "tags": []
          },
          "execution_count": 32
        }
      ]
    },
    {
      "cell_type": "code",
      "metadata": {
        "id": "zffbpYEGCbO8",
        "colab": {
          "base_uri": "https://localhost:8080/",
          "height": 233
        },
        "outputId": "82b29d49-02c2-4c62-da1b-01f2d5c983dd"
      },
      "source": [
        "#объединяем orders_5_train с датафреймом, представляющим только те товары, которые перезаказывались\r\n",
        "orders_6_train = df_transactions_5.groupby(['user_id','product_id'])[['reordered']].max()\r\n",
        "orders_5_train = orders_5_train.merge(orders_6_train, on=['user_id', 'product_id'], how='left')\r\n",
        "orders_5_train.head()"
      ],
      "execution_count": 33,
      "outputs": [
        {
          "output_type": "execute_result",
          "data": {
            "text/html": [
              "<div>\n",
              "<style scoped>\n",
              "    .dataframe tbody tr th:only-of-type {\n",
              "        vertical-align: middle;\n",
              "    }\n",
              "\n",
              "    .dataframe tbody tr th {\n",
              "        vertical-align: top;\n",
              "    }\n",
              "\n",
              "    .dataframe thead th {\n",
              "        text-align: right;\n",
              "    }\n",
              "</style>\n",
              "<table border=\"1\" class=\"dataframe\">\n",
              "  <thead>\n",
              "    <tr style=\"text-align: right;\">\n",
              "      <th></th>\n",
              "      <th></th>\n",
              "      <th>last_5</th>\n",
              "      <th>reordered</th>\n",
              "    </tr>\n",
              "    <tr>\n",
              "      <th>user_id</th>\n",
              "      <th>product_id</th>\n",
              "      <th></th>\n",
              "      <th></th>\n",
              "    </tr>\n",
              "  </thead>\n",
              "  <tbody>\n",
              "    <tr>\n",
              "      <th rowspan=\"5\" valign=\"top\">1</th>\n",
              "      <th>196</th>\n",
              "      <td>3</td>\n",
              "      <td>1.0</td>\n",
              "    </tr>\n",
              "    <tr>\n",
              "      <th>10258</th>\n",
              "      <td>3</td>\n",
              "      <td>1.0</td>\n",
              "    </tr>\n",
              "    <tr>\n",
              "      <th>12427</th>\n",
              "      <td>3</td>\n",
              "      <td>1.0</td>\n",
              "    </tr>\n",
              "    <tr>\n",
              "      <th>13032</th>\n",
              "      <td>1</td>\n",
              "      <td>1.0</td>\n",
              "    </tr>\n",
              "    <tr>\n",
              "      <th>25133</th>\n",
              "      <td>3</td>\n",
              "      <td>1.0</td>\n",
              "    </tr>\n",
              "  </tbody>\n",
              "</table>\n",
              "</div>"
            ],
            "text/plain": [
              "                    last_5  reordered\n",
              "user_id product_id                   \n",
              "1       196              3        1.0\n",
              "        10258            3        1.0\n",
              "        12427            3        1.0\n",
              "        13032            1        1.0\n",
              "        25133            3        1.0"
            ]
          },
          "metadata": {
            "tags": []
          },
          "execution_count": 33
        }
      ]
    },
    {
      "cell_type": "code",
      "metadata": {
        "colab": {
          "base_uri": "https://localhost:8080/"
        },
        "id": "qOO6QUCJEC1I",
        "outputId": "900c39d0-88a2-49c6-b7cf-f07b26b8a4a7"
      },
      "source": [
        "del orders_6_train\r\n",
        "gc.collect()"
      ],
      "execution_count": 34,
      "outputs": [
        {
          "output_type": "execute_result",
          "data": {
            "text/plain": [
              "12"
            ]
          },
          "metadata": {
            "tags": []
          },
          "execution_count": 34
        }
      ]
    },
    {
      "cell_type": "code",
      "metadata": {
        "colab": {
          "base_uri": "https://localhost:8080/",
          "height": 202
        },
        "id": "JEZYCQ1npJBH",
        "outputId": "bca4d1b8-c96d-4e4a-ca7d-1f37fea9e59f"
      },
      "source": [
        "#объединяем df_user_product_purchases и orders_5_train\r\n",
        "df_user_product_purchases_train = df_user_product_purchases.merge(orders_5_train, on=['user_id', 'product_id'], how='inner')\r\n",
        "df_user_product_purchases_train.head()"
      ],
      "execution_count": 35,
      "outputs": [
        {
          "output_type": "execute_result",
          "data": {
            "text/html": [
              "<div>\n",
              "<style scoped>\n",
              "    .dataframe tbody tr th:only-of-type {\n",
              "        vertical-align: middle;\n",
              "    }\n",
              "\n",
              "    .dataframe tbody tr th {\n",
              "        vertical-align: top;\n",
              "    }\n",
              "\n",
              "    .dataframe thead th {\n",
              "        text-align: right;\n",
              "    }\n",
              "</style>\n",
              "<table border=\"1\" class=\"dataframe\">\n",
              "  <thead>\n",
              "    <tr style=\"text-align: right;\">\n",
              "      <th></th>\n",
              "      <th>user_id</th>\n",
              "      <th>product_id</th>\n",
              "      <th>user_product_total_purchases</th>\n",
              "      <th>user_product_reorder_ratio</th>\n",
              "      <th>last_5</th>\n",
              "      <th>reordered</th>\n",
              "    </tr>\n",
              "  </thead>\n",
              "  <tbody>\n",
              "    <tr>\n",
              "      <th>0</th>\n",
              "      <td>1</td>\n",
              "      <td>196</td>\n",
              "      <td>10</td>\n",
              "      <td>1.0</td>\n",
              "      <td>3</td>\n",
              "      <td>1.0</td>\n",
              "    </tr>\n",
              "    <tr>\n",
              "      <th>1</th>\n",
              "      <td>1</td>\n",
              "      <td>12427</td>\n",
              "      <td>10</td>\n",
              "      <td>1.0</td>\n",
              "      <td>3</td>\n",
              "      <td>1.0</td>\n",
              "    </tr>\n",
              "    <tr>\n",
              "      <th>2</th>\n",
              "      <td>1</td>\n",
              "      <td>10258</td>\n",
              "      <td>9</td>\n",
              "      <td>1.0</td>\n",
              "      <td>3</td>\n",
              "      <td>1.0</td>\n",
              "    </tr>\n",
              "    <tr>\n",
              "      <th>3</th>\n",
              "      <td>1</td>\n",
              "      <td>25133</td>\n",
              "      <td>8</td>\n",
              "      <td>1.0</td>\n",
              "      <td>3</td>\n",
              "      <td>1.0</td>\n",
              "    </tr>\n",
              "    <tr>\n",
              "      <th>4</th>\n",
              "      <td>1</td>\n",
              "      <td>46149</td>\n",
              "      <td>3</td>\n",
              "      <td>1.0</td>\n",
              "      <td>1</td>\n",
              "      <td>1.0</td>\n",
              "    </tr>\n",
              "  </tbody>\n",
              "</table>\n",
              "</div>"
            ],
            "text/plain": [
              "   user_id  product_id  ...  last_5  reordered\n",
              "0        1         196  ...       3        1.0\n",
              "1        1       12427  ...       3        1.0\n",
              "2        1       10258  ...       3        1.0\n",
              "3        1       25133  ...       3        1.0\n",
              "4        1       46149  ...       1        1.0\n",
              "\n",
              "[5 rows x 6 columns]"
            ]
          },
          "metadata": {
            "tags": []
          },
          "execution_count": 35
        }
      ]
    },
    {
      "cell_type": "code",
      "metadata": {
        "colab": {
          "base_uri": "https://localhost:8080/",
          "height": 222
        },
        "id": "xWKMWv-wpwYY",
        "outputId": "9f947df7-2fd7-4dd0-8c1c-a056e2007eb6"
      },
      "source": [
        "#объединяем df_user_product_purchases_train и df_user\r\n",
        "train = df_user_product_purchases_train.merge(df_user, on='user_id', how='inner')\r\n",
        "train.head()"
      ],
      "execution_count": 36,
      "outputs": [
        {
          "output_type": "execute_result",
          "data": {
            "text/html": [
              "<div>\n",
              "<style scoped>\n",
              "    .dataframe tbody tr th:only-of-type {\n",
              "        vertical-align: middle;\n",
              "    }\n",
              "\n",
              "    .dataframe tbody tr th {\n",
              "        vertical-align: top;\n",
              "    }\n",
              "\n",
              "    .dataframe thead th {\n",
              "        text-align: right;\n",
              "    }\n",
              "</style>\n",
              "<table border=\"1\" class=\"dataframe\">\n",
              "  <thead>\n",
              "    <tr style=\"text-align: right;\">\n",
              "      <th></th>\n",
              "      <th>user_id</th>\n",
              "      <th>product_id</th>\n",
              "      <th>user_product_total_purchases</th>\n",
              "      <th>user_product_reorder_ratio</th>\n",
              "      <th>last_5</th>\n",
              "      <th>reordered</th>\n",
              "      <th>user_total_orders</th>\n",
              "      <th>user_reordered_ratio</th>\n",
              "    </tr>\n",
              "  </thead>\n",
              "  <tbody>\n",
              "    <tr>\n",
              "      <th>0</th>\n",
              "      <td>1</td>\n",
              "      <td>196</td>\n",
              "      <td>10</td>\n",
              "      <td>1.0</td>\n",
              "      <td>3</td>\n",
              "      <td>1.0</td>\n",
              "      <td>10</td>\n",
              "      <td>0.694915</td>\n",
              "    </tr>\n",
              "    <tr>\n",
              "      <th>1</th>\n",
              "      <td>1</td>\n",
              "      <td>12427</td>\n",
              "      <td>10</td>\n",
              "      <td>1.0</td>\n",
              "      <td>3</td>\n",
              "      <td>1.0</td>\n",
              "      <td>10</td>\n",
              "      <td>0.694915</td>\n",
              "    </tr>\n",
              "    <tr>\n",
              "      <th>2</th>\n",
              "      <td>1</td>\n",
              "      <td>10258</td>\n",
              "      <td>9</td>\n",
              "      <td>1.0</td>\n",
              "      <td>3</td>\n",
              "      <td>1.0</td>\n",
              "      <td>10</td>\n",
              "      <td>0.694915</td>\n",
              "    </tr>\n",
              "    <tr>\n",
              "      <th>3</th>\n",
              "      <td>1</td>\n",
              "      <td>25133</td>\n",
              "      <td>8</td>\n",
              "      <td>1.0</td>\n",
              "      <td>3</td>\n",
              "      <td>1.0</td>\n",
              "      <td>10</td>\n",
              "      <td>0.694915</td>\n",
              "    </tr>\n",
              "    <tr>\n",
              "      <th>4</th>\n",
              "      <td>1</td>\n",
              "      <td>46149</td>\n",
              "      <td>3</td>\n",
              "      <td>1.0</td>\n",
              "      <td>1</td>\n",
              "      <td>1.0</td>\n",
              "      <td>10</td>\n",
              "      <td>0.694915</td>\n",
              "    </tr>\n",
              "  </tbody>\n",
              "</table>\n",
              "</div>"
            ],
            "text/plain": [
              "   user_id  product_id  ...  user_total_orders  user_reordered_ratio\n",
              "0        1         196  ...                 10              0.694915\n",
              "1        1       12427  ...                 10              0.694915\n",
              "2        1       10258  ...                 10              0.694915\n",
              "3        1       25133  ...                 10              0.694915\n",
              "4        1       46149  ...                 10              0.694915\n",
              "\n",
              "[5 rows x 8 columns]"
            ]
          },
          "metadata": {
            "tags": []
          },
          "execution_count": 36
        }
      ]
    },
    {
      "cell_type": "code",
      "metadata": {
        "colab": {
          "base_uri": "https://localhost:8080/",
          "height": 222
        },
        "id": "9OLOGDYZp9xb",
        "outputId": "ae7baf46-0219-4ae7-c02f-fdcb88af048e"
      },
      "source": [
        "#объединяем train и df_purchases\r\n",
        "train = train.merge(df_purchases, on='product_id', how='inner')\r\n",
        "train.head()"
      ],
      "execution_count": 37,
      "outputs": [
        {
          "output_type": "execute_result",
          "data": {
            "text/html": [
              "<div>\n",
              "<style scoped>\n",
              "    .dataframe tbody tr th:only-of-type {\n",
              "        vertical-align: middle;\n",
              "    }\n",
              "\n",
              "    .dataframe tbody tr th {\n",
              "        vertical-align: top;\n",
              "    }\n",
              "\n",
              "    .dataframe thead th {\n",
              "        text-align: right;\n",
              "    }\n",
              "</style>\n",
              "<table border=\"1\" class=\"dataframe\">\n",
              "  <thead>\n",
              "    <tr style=\"text-align: right;\">\n",
              "      <th></th>\n",
              "      <th>user_id</th>\n",
              "      <th>product_id</th>\n",
              "      <th>user_product_total_purchases</th>\n",
              "      <th>user_product_reorder_ratio</th>\n",
              "      <th>last_5</th>\n",
              "      <th>reordered</th>\n",
              "      <th>user_total_orders</th>\n",
              "      <th>user_reordered_ratio</th>\n",
              "      <th>product_total_purchases</th>\n",
              "      <th>product_reorder_ratio</th>\n",
              "    </tr>\n",
              "  </thead>\n",
              "  <tbody>\n",
              "    <tr>\n",
              "      <th>0</th>\n",
              "      <td>1</td>\n",
              "      <td>196</td>\n",
              "      <td>10</td>\n",
              "      <td>1.000000</td>\n",
              "      <td>3</td>\n",
              "      <td>1.0</td>\n",
              "      <td>10</td>\n",
              "      <td>0.694915</td>\n",
              "      <td>28819</td>\n",
              "      <td>0.82921</td>\n",
              "    </tr>\n",
              "    <tr>\n",
              "      <th>1</th>\n",
              "      <td>15</td>\n",
              "      <td>196</td>\n",
              "      <td>4</td>\n",
              "      <td>0.571429</td>\n",
              "      <td>2</td>\n",
              "      <td>1.0</td>\n",
              "      <td>21</td>\n",
              "      <td>0.814286</td>\n",
              "      <td>28819</td>\n",
              "      <td>0.82921</td>\n",
              "    </tr>\n",
              "    <tr>\n",
              "      <th>2</th>\n",
              "      <td>31</td>\n",
              "      <td>196</td>\n",
              "      <td>2</td>\n",
              "      <td>0.200000</td>\n",
              "      <td>1</td>\n",
              "      <td>1.0</td>\n",
              "      <td>19</td>\n",
              "      <td>0.367347</td>\n",
              "      <td>28819</td>\n",
              "      <td>0.82921</td>\n",
              "    </tr>\n",
              "    <tr>\n",
              "      <th>3</th>\n",
              "      <td>43</td>\n",
              "      <td>196</td>\n",
              "      <td>2</td>\n",
              "      <td>0.333333</td>\n",
              "      <td>1</td>\n",
              "      <td>1.0</td>\n",
              "      <td>11</td>\n",
              "      <td>0.401361</td>\n",
              "      <td>28819</td>\n",
              "      <td>0.82921</td>\n",
              "    </tr>\n",
              "    <tr>\n",
              "      <th>4</th>\n",
              "      <td>67</td>\n",
              "      <td>196</td>\n",
              "      <td>19</td>\n",
              "      <td>0.791667</td>\n",
              "      <td>2</td>\n",
              "      <td>1.0</td>\n",
              "      <td>24</td>\n",
              "      <td>0.716049</td>\n",
              "      <td>28819</td>\n",
              "      <td>0.82921</td>\n",
              "    </tr>\n",
              "  </tbody>\n",
              "</table>\n",
              "</div>"
            ],
            "text/plain": [
              "   user_id  product_id  ...  product_total_purchases  product_reorder_ratio\n",
              "0        1         196  ...                    28819                0.82921\n",
              "1       15         196  ...                    28819                0.82921\n",
              "2       31         196  ...                    28819                0.82921\n",
              "3       43         196  ...                    28819                0.82921\n",
              "4       67         196  ...                    28819                0.82921\n",
              "\n",
              "[5 rows x 10 columns]"
            ]
          },
          "metadata": {
            "tags": []
          },
          "execution_count": 37
        }
      ]
    },
    {
      "cell_type": "code",
      "metadata": {
        "colab": {
          "base_uri": "https://localhost:8080/",
          "height": 233
        },
        "id": "cxkrwOfDxtd0",
        "outputId": "2c1a7806-450b-44be-9c49-1380ea2767f6"
      },
      "source": [
        "#формируем датафрейм с количеством заказов, в которых присутствовали определенные товары в последних пяти заказах\r\n",
        "orders_5_test = test.groupby(['user_id','product_id'])[['order_id']].count()\r\n",
        "orders_5_test.columns = ['last_5']\r\n",
        "orders_5_test.head()"
      ],
      "execution_count": 38,
      "outputs": [
        {
          "output_type": "execute_result",
          "data": {
            "text/html": [
              "<div>\n",
              "<style scoped>\n",
              "    .dataframe tbody tr th:only-of-type {\n",
              "        vertical-align: middle;\n",
              "    }\n",
              "\n",
              "    .dataframe tbody tr th {\n",
              "        vertical-align: top;\n",
              "    }\n",
              "\n",
              "    .dataframe thead th {\n",
              "        text-align: right;\n",
              "    }\n",
              "</style>\n",
              "<table border=\"1\" class=\"dataframe\">\n",
              "  <thead>\n",
              "    <tr style=\"text-align: right;\">\n",
              "      <th></th>\n",
              "      <th></th>\n",
              "      <th>last_5</th>\n",
              "    </tr>\n",
              "    <tr>\n",
              "      <th>user_id</th>\n",
              "      <th>product_id</th>\n",
              "      <th></th>\n",
              "    </tr>\n",
              "  </thead>\n",
              "  <tbody>\n",
              "    <tr>\n",
              "      <th rowspan=\"5\" valign=\"top\">1</th>\n",
              "      <th>196</th>\n",
              "      <td>2</td>\n",
              "    </tr>\n",
              "    <tr>\n",
              "      <th>10258</th>\n",
              "      <td>2</td>\n",
              "    </tr>\n",
              "    <tr>\n",
              "      <th>12427</th>\n",
              "      <td>2</td>\n",
              "    </tr>\n",
              "    <tr>\n",
              "      <th>13032</th>\n",
              "      <td>1</td>\n",
              "    </tr>\n",
              "    <tr>\n",
              "      <th>25133</th>\n",
              "      <td>2</td>\n",
              "    </tr>\n",
              "  </tbody>\n",
              "</table>\n",
              "</div>"
            ],
            "text/plain": [
              "                    last_5\n",
              "user_id product_id        \n",
              "1       196              2\n",
              "        10258            2\n",
              "        12427            2\n",
              "        13032            1\n",
              "        25133            2"
            ]
          },
          "metadata": {
            "tags": []
          },
          "execution_count": 38
        }
      ]
    },
    {
      "cell_type": "code",
      "metadata": {
        "colab": {
          "base_uri": "https://localhost:8080/",
          "height": 233
        },
        "id": "PgizsGUJx6xP",
        "outputId": "0166e549-a401-4068-c92a-baa350ef433f"
      },
      "source": [
        "#объединяем orders_5_test с датафреймом, представляющим только те товары, которые перезаказывались\r\n",
        "orders_6_test = df_transactions_5.groupby(['user_id','product_id'])[['reordered']].max()\r\n",
        "orders_5_test = orders_5_test.merge(orders_6_test, on=['user_id', 'product_id'], how='left')\r\n",
        "orders_5_test.head()"
      ],
      "execution_count": 39,
      "outputs": [
        {
          "output_type": "execute_result",
          "data": {
            "text/html": [
              "<div>\n",
              "<style scoped>\n",
              "    .dataframe tbody tr th:only-of-type {\n",
              "        vertical-align: middle;\n",
              "    }\n",
              "\n",
              "    .dataframe tbody tr th {\n",
              "        vertical-align: top;\n",
              "    }\n",
              "\n",
              "    .dataframe thead th {\n",
              "        text-align: right;\n",
              "    }\n",
              "</style>\n",
              "<table border=\"1\" class=\"dataframe\">\n",
              "  <thead>\n",
              "    <tr style=\"text-align: right;\">\n",
              "      <th></th>\n",
              "      <th></th>\n",
              "      <th>last_5</th>\n",
              "      <th>reordered</th>\n",
              "    </tr>\n",
              "    <tr>\n",
              "      <th>user_id</th>\n",
              "      <th>product_id</th>\n",
              "      <th></th>\n",
              "      <th></th>\n",
              "    </tr>\n",
              "  </thead>\n",
              "  <tbody>\n",
              "    <tr>\n",
              "      <th rowspan=\"5\" valign=\"top\">1</th>\n",
              "      <th>196</th>\n",
              "      <td>2</td>\n",
              "      <td>1.0</td>\n",
              "    </tr>\n",
              "    <tr>\n",
              "      <th>10258</th>\n",
              "      <td>2</td>\n",
              "      <td>1.0</td>\n",
              "    </tr>\n",
              "    <tr>\n",
              "      <th>12427</th>\n",
              "      <td>2</td>\n",
              "      <td>1.0</td>\n",
              "    </tr>\n",
              "    <tr>\n",
              "      <th>13032</th>\n",
              "      <td>1</td>\n",
              "      <td>1.0</td>\n",
              "    </tr>\n",
              "    <tr>\n",
              "      <th>25133</th>\n",
              "      <td>2</td>\n",
              "      <td>1.0</td>\n",
              "    </tr>\n",
              "  </tbody>\n",
              "</table>\n",
              "</div>"
            ],
            "text/plain": [
              "                    last_5  reordered\n",
              "user_id product_id                   \n",
              "1       196              2        1.0\n",
              "        10258            2        1.0\n",
              "        12427            2        1.0\n",
              "        13032            1        1.0\n",
              "        25133            2        1.0"
            ]
          },
          "metadata": {
            "tags": []
          },
          "execution_count": 39
        }
      ]
    },
    {
      "cell_type": "code",
      "metadata": {
        "colab": {
          "base_uri": "https://localhost:8080/"
        },
        "id": "w4eBz9yVx69Z",
        "outputId": "627d9b45-71af-40c2-e415-51e0c4045054"
      },
      "source": [
        "del orders_6_test\r\n",
        "gc.collect()"
      ],
      "execution_count": 40,
      "outputs": [
        {
          "output_type": "execute_result",
          "data": {
            "text/plain": [
              "36"
            ]
          },
          "metadata": {
            "tags": []
          },
          "execution_count": 40
        }
      ]
    },
    {
      "cell_type": "code",
      "metadata": {
        "colab": {
          "base_uri": "https://localhost:8080/",
          "height": 202
        },
        "id": "f_mk6bQ_yXOp",
        "outputId": "4ab6708b-974a-418b-fe07-16b369c3233f"
      },
      "source": [
        "#объединяем df_user_product_purchases и orders_5_test\r\n",
        "df_user_product_purchases_test = df_user_product_purchases.merge(orders_5_test, on=['user_id', 'product_id'], how='inner')\r\n",
        "df_user_product_purchases_test.head()"
      ],
      "execution_count": 41,
      "outputs": [
        {
          "output_type": "execute_result",
          "data": {
            "text/html": [
              "<div>\n",
              "<style scoped>\n",
              "    .dataframe tbody tr th:only-of-type {\n",
              "        vertical-align: middle;\n",
              "    }\n",
              "\n",
              "    .dataframe tbody tr th {\n",
              "        vertical-align: top;\n",
              "    }\n",
              "\n",
              "    .dataframe thead th {\n",
              "        text-align: right;\n",
              "    }\n",
              "</style>\n",
              "<table border=\"1\" class=\"dataframe\">\n",
              "  <thead>\n",
              "    <tr style=\"text-align: right;\">\n",
              "      <th></th>\n",
              "      <th>user_id</th>\n",
              "      <th>product_id</th>\n",
              "      <th>user_product_total_purchases</th>\n",
              "      <th>user_product_reorder_ratio</th>\n",
              "      <th>last_5</th>\n",
              "      <th>reordered</th>\n",
              "    </tr>\n",
              "  </thead>\n",
              "  <tbody>\n",
              "    <tr>\n",
              "      <th>0</th>\n",
              "      <td>1</td>\n",
              "      <td>196</td>\n",
              "      <td>10</td>\n",
              "      <td>1.0</td>\n",
              "      <td>2</td>\n",
              "      <td>1.0</td>\n",
              "    </tr>\n",
              "    <tr>\n",
              "      <th>1</th>\n",
              "      <td>1</td>\n",
              "      <td>12427</td>\n",
              "      <td>10</td>\n",
              "      <td>1.0</td>\n",
              "      <td>2</td>\n",
              "      <td>1.0</td>\n",
              "    </tr>\n",
              "    <tr>\n",
              "      <th>2</th>\n",
              "      <td>1</td>\n",
              "      <td>10258</td>\n",
              "      <td>9</td>\n",
              "      <td>1.0</td>\n",
              "      <td>2</td>\n",
              "      <td>1.0</td>\n",
              "    </tr>\n",
              "    <tr>\n",
              "      <th>3</th>\n",
              "      <td>1</td>\n",
              "      <td>25133</td>\n",
              "      <td>8</td>\n",
              "      <td>1.0</td>\n",
              "      <td>2</td>\n",
              "      <td>1.0</td>\n",
              "    </tr>\n",
              "    <tr>\n",
              "      <th>4</th>\n",
              "      <td>1</td>\n",
              "      <td>46149</td>\n",
              "      <td>3</td>\n",
              "      <td>1.0</td>\n",
              "      <td>2</td>\n",
              "      <td>1.0</td>\n",
              "    </tr>\n",
              "  </tbody>\n",
              "</table>\n",
              "</div>"
            ],
            "text/plain": [
              "   user_id  product_id  ...  last_5  reordered\n",
              "0        1         196  ...       2        1.0\n",
              "1        1       12427  ...       2        1.0\n",
              "2        1       10258  ...       2        1.0\n",
              "3        1       25133  ...       2        1.0\n",
              "4        1       46149  ...       2        1.0\n",
              "\n",
              "[5 rows x 6 columns]"
            ]
          },
          "metadata": {
            "tags": []
          },
          "execution_count": 41
        }
      ]
    },
    {
      "cell_type": "code",
      "metadata": {
        "colab": {
          "base_uri": "https://localhost:8080/",
          "height": 222
        },
        "id": "gTGQt-mIyiH3",
        "outputId": "840f1c54-9268-4960-cbb8-3476b5228ab2"
      },
      "source": [
        "#объединяем df_user_product_purchases_test и df_user\r\n",
        "test = df_user_product_purchases_test.merge(df_user, on='user_id', how='inner')\r\n",
        "test = test.merge(df_purchases, on='product_id', how='inner')\r\n",
        "test.head()"
      ],
      "execution_count": 42,
      "outputs": [
        {
          "output_type": "execute_result",
          "data": {
            "text/html": [
              "<div>\n",
              "<style scoped>\n",
              "    .dataframe tbody tr th:only-of-type {\n",
              "        vertical-align: middle;\n",
              "    }\n",
              "\n",
              "    .dataframe tbody tr th {\n",
              "        vertical-align: top;\n",
              "    }\n",
              "\n",
              "    .dataframe thead th {\n",
              "        text-align: right;\n",
              "    }\n",
              "</style>\n",
              "<table border=\"1\" class=\"dataframe\">\n",
              "  <thead>\n",
              "    <tr style=\"text-align: right;\">\n",
              "      <th></th>\n",
              "      <th>user_id</th>\n",
              "      <th>product_id</th>\n",
              "      <th>user_product_total_purchases</th>\n",
              "      <th>user_product_reorder_ratio</th>\n",
              "      <th>last_5</th>\n",
              "      <th>reordered</th>\n",
              "      <th>user_total_orders</th>\n",
              "      <th>user_reordered_ratio</th>\n",
              "      <th>product_total_purchases</th>\n",
              "      <th>product_reorder_ratio</th>\n",
              "    </tr>\n",
              "  </thead>\n",
              "  <tbody>\n",
              "    <tr>\n",
              "      <th>0</th>\n",
              "      <td>1</td>\n",
              "      <td>196</td>\n",
              "      <td>10</td>\n",
              "      <td>1.000000</td>\n",
              "      <td>2</td>\n",
              "      <td>1.0</td>\n",
              "      <td>10</td>\n",
              "      <td>0.694915</td>\n",
              "      <td>28819</td>\n",
              "      <td>0.82921</td>\n",
              "    </tr>\n",
              "    <tr>\n",
              "      <th>1</th>\n",
              "      <td>15</td>\n",
              "      <td>196</td>\n",
              "      <td>4</td>\n",
              "      <td>0.571429</td>\n",
              "      <td>1</td>\n",
              "      <td>1.0</td>\n",
              "      <td>21</td>\n",
              "      <td>0.814286</td>\n",
              "      <td>28819</td>\n",
              "      <td>0.82921</td>\n",
              "    </tr>\n",
              "    <tr>\n",
              "      <th>2</th>\n",
              "      <td>67</td>\n",
              "      <td>196</td>\n",
              "      <td>19</td>\n",
              "      <td>0.791667</td>\n",
              "      <td>1</td>\n",
              "      <td>1.0</td>\n",
              "      <td>24</td>\n",
              "      <td>0.716049</td>\n",
              "      <td>28819</td>\n",
              "      <td>0.82921</td>\n",
              "    </tr>\n",
              "    <tr>\n",
              "      <th>3</th>\n",
              "      <td>82</td>\n",
              "      <td>196</td>\n",
              "      <td>9</td>\n",
              "      <td>0.473684</td>\n",
              "      <td>2</td>\n",
              "      <td>1.0</td>\n",
              "      <td>19</td>\n",
              "      <td>0.793893</td>\n",
              "      <td>28819</td>\n",
              "      <td>0.82921</td>\n",
              "    </tr>\n",
              "    <tr>\n",
              "      <th>4</th>\n",
              "      <td>98</td>\n",
              "      <td>196</td>\n",
              "      <td>6</td>\n",
              "      <td>0.545455</td>\n",
              "      <td>2</td>\n",
              "      <td>1.0</td>\n",
              "      <td>13</td>\n",
              "      <td>0.437500</td>\n",
              "      <td>28819</td>\n",
              "      <td>0.82921</td>\n",
              "    </tr>\n",
              "  </tbody>\n",
              "</table>\n",
              "</div>"
            ],
            "text/plain": [
              "   user_id  product_id  ...  product_total_purchases  product_reorder_ratio\n",
              "0        1         196  ...                    28819                0.82921\n",
              "1       15         196  ...                    28819                0.82921\n",
              "2       67         196  ...                    28819                0.82921\n",
              "3       82         196  ...                    28819                0.82921\n",
              "4       98         196  ...                    28819                0.82921\n",
              "\n",
              "[5 rows x 10 columns]"
            ]
          },
          "metadata": {
            "tags": []
          },
          "execution_count": 42
        }
      ]
    },
    {
      "cell_type": "code",
      "metadata": {
        "colab": {
          "base_uri": "https://localhost:8080/"
        },
        "id": "J-dkfB6Np975",
        "outputId": "d28bc700-7050-4287-ec6d-6e37c3b750d4"
      },
      "source": [
        "del df_user,\r\n",
        "del df_purchases\r\n",
        "del df_user_product_purchases\r\n",
        "gc.collect()"
      ],
      "execution_count": 43,
      "outputs": [
        {
          "output_type": "execute_result",
          "data": {
            "text/plain": [
              "65"
            ]
          },
          "metadata": {
            "tags": []
          },
          "execution_count": 43
        }
      ]
    },
    {
      "cell_type": "code",
      "metadata": {
        "colab": {
          "base_uri": "https://localhost:8080/",
          "height": 435
        },
        "id": "GvYbcYzD-Oya",
        "outputId": "f9c8633a-21de-41f9-87e1-7dcc79965988"
      },
      "source": [
        "test"
      ],
      "execution_count": 44,
      "outputs": [
        {
          "output_type": "execute_result",
          "data": {
            "text/html": [
              "<div>\n",
              "<style scoped>\n",
              "    .dataframe tbody tr th:only-of-type {\n",
              "        vertical-align: middle;\n",
              "    }\n",
              "\n",
              "    .dataframe tbody tr th {\n",
              "        vertical-align: top;\n",
              "    }\n",
              "\n",
              "    .dataframe thead th {\n",
              "        text-align: right;\n",
              "    }\n",
              "</style>\n",
              "<table border=\"1\" class=\"dataframe\">\n",
              "  <thead>\n",
              "    <tr style=\"text-align: right;\">\n",
              "      <th></th>\n",
              "      <th>user_id</th>\n",
              "      <th>product_id</th>\n",
              "      <th>user_product_total_purchases</th>\n",
              "      <th>user_product_reorder_ratio</th>\n",
              "      <th>last_5</th>\n",
              "      <th>reordered</th>\n",
              "      <th>user_total_orders</th>\n",
              "      <th>user_reordered_ratio</th>\n",
              "      <th>product_total_purchases</th>\n",
              "      <th>product_reorder_ratio</th>\n",
              "    </tr>\n",
              "  </thead>\n",
              "  <tbody>\n",
              "    <tr>\n",
              "      <th>0</th>\n",
              "      <td>1</td>\n",
              "      <td>196</td>\n",
              "      <td>10</td>\n",
              "      <td>1.000000</td>\n",
              "      <td>2</td>\n",
              "      <td>1.0</td>\n",
              "      <td>10</td>\n",
              "      <td>0.694915</td>\n",
              "      <td>28819</td>\n",
              "      <td>0.829210</td>\n",
              "    </tr>\n",
              "    <tr>\n",
              "      <th>1</th>\n",
              "      <td>15</td>\n",
              "      <td>196</td>\n",
              "      <td>4</td>\n",
              "      <td>0.571429</td>\n",
              "      <td>1</td>\n",
              "      <td>1.0</td>\n",
              "      <td>21</td>\n",
              "      <td>0.814286</td>\n",
              "      <td>28819</td>\n",
              "      <td>0.829210</td>\n",
              "    </tr>\n",
              "    <tr>\n",
              "      <th>2</th>\n",
              "      <td>67</td>\n",
              "      <td>196</td>\n",
              "      <td>19</td>\n",
              "      <td>0.791667</td>\n",
              "      <td>1</td>\n",
              "      <td>1.0</td>\n",
              "      <td>24</td>\n",
              "      <td>0.716049</td>\n",
              "      <td>28819</td>\n",
              "      <td>0.829210</td>\n",
              "    </tr>\n",
              "    <tr>\n",
              "      <th>3</th>\n",
              "      <td>82</td>\n",
              "      <td>196</td>\n",
              "      <td>9</td>\n",
              "      <td>0.473684</td>\n",
              "      <td>2</td>\n",
              "      <td>1.0</td>\n",
              "      <td>19</td>\n",
              "      <td>0.793893</td>\n",
              "      <td>28819</td>\n",
              "      <td>0.829210</td>\n",
              "    </tr>\n",
              "    <tr>\n",
              "      <th>4</th>\n",
              "      <td>98</td>\n",
              "      <td>196</td>\n",
              "      <td>6</td>\n",
              "      <td>0.545455</td>\n",
              "      <td>2</td>\n",
              "      <td>1.0</td>\n",
              "      <td>13</td>\n",
              "      <td>0.437500</td>\n",
              "      <td>28819</td>\n",
              "      <td>0.829210</td>\n",
              "    </tr>\n",
              "    <tr>\n",
              "      <th>...</th>\n",
              "      <td>...</td>\n",
              "      <td>...</td>\n",
              "      <td>...</td>\n",
              "      <td>...</td>\n",
              "      <td>...</td>\n",
              "      <td>...</td>\n",
              "      <td>...</td>\n",
              "      <td>...</td>\n",
              "      <td>...</td>\n",
              "      <td>...</td>\n",
              "    </tr>\n",
              "    <tr>\n",
              "      <th>1839777</th>\n",
              "      <td>206165</td>\n",
              "      <td>6537</td>\n",
              "      <td>1</td>\n",
              "      <td>0.500000</td>\n",
              "      <td>1</td>\n",
              "      <td>0.0</td>\n",
              "      <td>27</td>\n",
              "      <td>0.431127</td>\n",
              "      <td>8</td>\n",
              "      <td>0.250000</td>\n",
              "    </tr>\n",
              "    <tr>\n",
              "      <th>1839778</th>\n",
              "      <td>206165</td>\n",
              "      <td>35937</td>\n",
              "      <td>3</td>\n",
              "      <td>0.428571</td>\n",
              "      <td>1</td>\n",
              "      <td>1.0</td>\n",
              "      <td>27</td>\n",
              "      <td>0.431127</td>\n",
              "      <td>16</td>\n",
              "      <td>0.187500</td>\n",
              "    </tr>\n",
              "    <tr>\n",
              "      <th>1839779</th>\n",
              "      <td>206183</td>\n",
              "      <td>8133</td>\n",
              "      <td>1</td>\n",
              "      <td>0.500000</td>\n",
              "      <td>1</td>\n",
              "      <td>0.0</td>\n",
              "      <td>13</td>\n",
              "      <td>0.664865</td>\n",
              "      <td>11</td>\n",
              "      <td>0.181818</td>\n",
              "    </tr>\n",
              "    <tr>\n",
              "      <th>1839780</th>\n",
              "      <td>206201</td>\n",
              "      <td>33935</td>\n",
              "      <td>1</td>\n",
              "      <td>0.500000</td>\n",
              "      <td>1</td>\n",
              "      <td>0.0</td>\n",
              "      <td>31</td>\n",
              "      <td>0.563776</td>\n",
              "      <td>8</td>\n",
              "      <td>0.250000</td>\n",
              "    </tr>\n",
              "    <tr>\n",
              "      <th>1839781</th>\n",
              "      <td>206201</td>\n",
              "      <td>16315</td>\n",
              "      <td>2</td>\n",
              "      <td>0.333333</td>\n",
              "      <td>1</td>\n",
              "      <td>1.0</td>\n",
              "      <td>31</td>\n",
              "      <td>0.563776</td>\n",
              "      <td>13</td>\n",
              "      <td>0.538462</td>\n",
              "    </tr>\n",
              "  </tbody>\n",
              "</table>\n",
              "<p>1839782 rows × 10 columns</p>\n",
              "</div>"
            ],
            "text/plain": [
              "         user_id  product_id  ...  product_total_purchases  product_reorder_ratio\n",
              "0              1         196  ...                    28819               0.829210\n",
              "1             15         196  ...                    28819               0.829210\n",
              "2             67         196  ...                    28819               0.829210\n",
              "3             82         196  ...                    28819               0.829210\n",
              "4             98         196  ...                    28819               0.829210\n",
              "...          ...         ...  ...                      ...                    ...\n",
              "1839777   206165        6537  ...                        8               0.250000\n",
              "1839778   206165       35937  ...                       16               0.187500\n",
              "1839779   206183        8133  ...                       11               0.181818\n",
              "1839780   206201       33935  ...                        8               0.250000\n",
              "1839781   206201       16315  ...                       13               0.538462\n",
              "\n",
              "[1839782 rows x 10 columns]"
            ]
          },
          "metadata": {
            "tags": []
          },
          "execution_count": 44
        }
      ]
    },
    {
      "cell_type": "code",
      "metadata": {
        "id": "gWndo8i2GGvu"
      },
      "source": [
        "y_train = train['reordered'].ravel()#target тренировочный\r\n",
        "x_train = train.drop(['reordered'], axis=1)#признаки без target тренировочные\r\n",
        "y_test = test['reordered'].ravel()#target тестовый\r\n",
        "x_test = test.drop(['reordered'], axis=1)#признаки без target тестовые"
      ],
      "execution_count": 47,
      "outputs": []
    },
    {
      "cell_type": "code",
      "metadata": {
        "id": "OwBE9RDqRZpi"
      },
      "source": [
        "logreg = LogisticRegression(C=0.9, random_state=17, max_iter=1000)#определяем алгоритм с коэффициентом регуляризации 0.9, максимальным кол-вом итераций 1000\r\n",
        "logreg_model = logreg.fit(x_train, y_train)#обучаем алгоритм на тренировочных данных"
      ],
      "execution_count": 48,
      "outputs": []
    },
    {
      "cell_type": "code",
      "metadata": {
        "id": "avxIVIlySKok"
      },
      "source": [
        "logreg_model_prediction = logreg_model.predict(x_test)#предсказания модели на тестовых данных"
      ],
      "execution_count": 49,
      "outputs": []
    },
    {
      "cell_type": "code",
      "metadata": {
        "colab": {
          "base_uri": "https://localhost:8080/"
        },
        "id": "QCyauchSSKyb",
        "outputId": "382d8ef1-b191-4fba-d8fd-d7185bc8f325"
      },
      "source": [
        "print(f'accuracy_score на валидационных данных: {accuracy_score(y_test, logreg_model_prediction)}')#точность предсказаний"
      ],
      "execution_count": 50,
      "outputs": [
        {
          "output_type": "stream",
          "text": [
            "accuracy_score на валидационных данных: 0.9023248406604696\n"
          ],
          "name": "stdout"
        }
      ]
    },
    {
      "cell_type": "code",
      "metadata": {
        "id": "gqINPmYyBvO-"
      },
      "source": [
        "#функция предназначена для приведения списка к формату, который требуется в задаче\r\n",
        "def clean_prediction(row):\r\n",
        "    data = row.product_id\r\n",
        "    data = str(\"\".join(str(data))[1:-1].replace(',', ' '))\r\n",
        "    return data"
      ],
      "execution_count": 51,
      "outputs": []
    },
    {
      "cell_type": "code",
      "metadata": {
        "id": "9_HrRjnFqRfI"
      },
      "source": [
        "#функция предназначена для создания датафрейма из тестового набора данных и списка полученных предсказаний\r\n",
        "def create_predicted_df(users, products, predictions, columns=['user_id', 'product_id', 'predictions']):\r\n",
        "    predicted_df = pd.DataFrame(list(zip(users, products, predictions)), columns=columns)\r\n",
        "    predicted_df['result'] = (predicted_df['product_id'] * predicted_df['predictions']).astype(int)\r\n",
        "    return predicted_df"
      ],
      "execution_count": 60,
      "outputs": []
    },
    {
      "cell_type": "code",
      "metadata": {
        "id": "9lErYF_5ChtZ"
      },
      "source": [
        "#создаем датафрейм с помощью функции \"create_predicted_df\"\r\n",
        "df_total = create_predicted_df(x_test['user_id'], x_test['product_id'], logreg_model_prediction, columns=['user_id', 'product_id', 'predictions'])"
      ],
      "execution_count": 61,
      "outputs": []
    },
    {
      "cell_type": "code",
      "metadata": {
        "id": "XePhAen6TA73",
        "outputId": "63caa4ae-72c3-4b81-b527-5c4ad3a5bd31",
        "colab": {
          "base_uri": "https://localhost:8080/",
          "height": 415
        }
      },
      "source": [
        "df_total"
      ],
      "execution_count": 62,
      "outputs": [
        {
          "output_type": "execute_result",
          "data": {
            "text/html": [
              "<div>\n",
              "<style scoped>\n",
              "    .dataframe tbody tr th:only-of-type {\n",
              "        vertical-align: middle;\n",
              "    }\n",
              "\n",
              "    .dataframe tbody tr th {\n",
              "        vertical-align: top;\n",
              "    }\n",
              "\n",
              "    .dataframe thead th {\n",
              "        text-align: right;\n",
              "    }\n",
              "</style>\n",
              "<table border=\"1\" class=\"dataframe\">\n",
              "  <thead>\n",
              "    <tr style=\"text-align: right;\">\n",
              "      <th></th>\n",
              "      <th>user_id</th>\n",
              "      <th>product_id</th>\n",
              "      <th>predictions</th>\n",
              "      <th>result</th>\n",
              "    </tr>\n",
              "  </thead>\n",
              "  <tbody>\n",
              "    <tr>\n",
              "      <th>0</th>\n",
              "      <td>1</td>\n",
              "      <td>196</td>\n",
              "      <td>1.0</td>\n",
              "      <td>196</td>\n",
              "    </tr>\n",
              "    <tr>\n",
              "      <th>1</th>\n",
              "      <td>15</td>\n",
              "      <td>196</td>\n",
              "      <td>1.0</td>\n",
              "      <td>196</td>\n",
              "    </tr>\n",
              "    <tr>\n",
              "      <th>2</th>\n",
              "      <td>67</td>\n",
              "      <td>196</td>\n",
              "      <td>1.0</td>\n",
              "      <td>196</td>\n",
              "    </tr>\n",
              "    <tr>\n",
              "      <th>3</th>\n",
              "      <td>82</td>\n",
              "      <td>196</td>\n",
              "      <td>1.0</td>\n",
              "      <td>196</td>\n",
              "    </tr>\n",
              "    <tr>\n",
              "      <th>4</th>\n",
              "      <td>98</td>\n",
              "      <td>196</td>\n",
              "      <td>1.0</td>\n",
              "      <td>196</td>\n",
              "    </tr>\n",
              "    <tr>\n",
              "      <th>...</th>\n",
              "      <td>...</td>\n",
              "      <td>...</td>\n",
              "      <td>...</td>\n",
              "      <td>...</td>\n",
              "    </tr>\n",
              "    <tr>\n",
              "      <th>1839777</th>\n",
              "      <td>206165</td>\n",
              "      <td>6537</td>\n",
              "      <td>0.0</td>\n",
              "      <td>0</td>\n",
              "    </tr>\n",
              "    <tr>\n",
              "      <th>1839778</th>\n",
              "      <td>206165</td>\n",
              "      <td>35937</td>\n",
              "      <td>1.0</td>\n",
              "      <td>35937</td>\n",
              "    </tr>\n",
              "    <tr>\n",
              "      <th>1839779</th>\n",
              "      <td>206183</td>\n",
              "      <td>8133</td>\n",
              "      <td>0.0</td>\n",
              "      <td>0</td>\n",
              "    </tr>\n",
              "    <tr>\n",
              "      <th>1839780</th>\n",
              "      <td>206201</td>\n",
              "      <td>33935</td>\n",
              "      <td>0.0</td>\n",
              "      <td>0</td>\n",
              "    </tr>\n",
              "    <tr>\n",
              "      <th>1839781</th>\n",
              "      <td>206201</td>\n",
              "      <td>16315</td>\n",
              "      <td>1.0</td>\n",
              "      <td>16315</td>\n",
              "    </tr>\n",
              "  </tbody>\n",
              "</table>\n",
              "<p>1839782 rows × 4 columns</p>\n",
              "</div>"
            ],
            "text/plain": [
              "         user_id  product_id  predictions  result\n",
              "0              1         196          1.0     196\n",
              "1             15         196          1.0     196\n",
              "2             67         196          1.0     196\n",
              "3             82         196          1.0     196\n",
              "4             98         196          1.0     196\n",
              "...          ...         ...          ...     ...\n",
              "1839777   206165        6537          0.0       0\n",
              "1839778   206165       35937          1.0   35937\n",
              "1839779   206183        8133          0.0       0\n",
              "1839780   206201       33935          0.0       0\n",
              "1839781   206201       16315          1.0   16315\n",
              "\n",
              "[1839782 rows x 4 columns]"
            ]
          },
          "metadata": {
            "tags": []
          },
          "execution_count": 62
        }
      ]
    },
    {
      "cell_type": "code",
      "metadata": {
        "id": "Jy42NXRWE33w"
      },
      "source": [
        "#для каждого пользователя получаем список предсказаний из столбца 'result' с помощью \"apply(list)\"\r\n",
        "rec = df_total.groupby('user_id')['result'].apply(list).reset_index(name='product_id')"
      ],
      "execution_count": 71,
      "outputs": []
    },
    {
      "cell_type": "code",
      "metadata": {
        "id": "Hdm-_uEHThio",
        "outputId": "4d640820-3ab0-4d35-dc34-92110c7e1ff9",
        "colab": {
          "base_uri": "https://localhost:8080/",
          "height": 415
        }
      },
      "source": [
        "rec"
      ],
      "execution_count": 72,
      "outputs": [
        {
          "output_type": "execute_result",
          "data": {
            "text/html": [
              "<div>\n",
              "<style scoped>\n",
              "    .dataframe tbody tr th:only-of-type {\n",
              "        vertical-align: middle;\n",
              "    }\n",
              "\n",
              "    .dataframe tbody tr th {\n",
              "        vertical-align: top;\n",
              "    }\n",
              "\n",
              "    .dataframe thead th {\n",
              "        text-align: right;\n",
              "    }\n",
              "</style>\n",
              "<table border=\"1\" class=\"dataframe\">\n",
              "  <thead>\n",
              "    <tr style=\"text-align: right;\">\n",
              "      <th></th>\n",
              "      <th>user_id</th>\n",
              "      <th>product_id</th>\n",
              "    </tr>\n",
              "  </thead>\n",
              "  <tbody>\n",
              "    <tr>\n",
              "      <th>0</th>\n",
              "      <td>1</td>\n",
              "      <td>[196, 12427, 10258, 25133, 46149, 35951, 38928...</td>\n",
              "    </tr>\n",
              "    <tr>\n",
              "      <th>1</th>\n",
              "      <td>2</td>\n",
              "      <td>[7963, 20785, 22825, 24768, 27413, 0, 47209, 1...</td>\n",
              "    </tr>\n",
              "    <tr>\n",
              "      <th>2</th>\n",
              "      <td>3</td>\n",
              "      <td>[39190, 43961, 47766, 21903, 18599, 1005, 1766...</td>\n",
              "    </tr>\n",
              "    <tr>\n",
              "      <th>3</th>\n",
              "      <td>7</td>\n",
              "      <td>[40852, 37602, 21137, 32177, 13198, 31683, 121...</td>\n",
              "    </tr>\n",
              "    <tr>\n",
              "      <th>4</th>\n",
              "      <td>13</td>\n",
              "      <td>[27086, 43086, 14197, 34382, 0, 4210, 27435, 2...</td>\n",
              "    </tr>\n",
              "    <tr>\n",
              "      <th>...</th>\n",
              "      <td>...</td>\n",
              "      <td>...</td>\n",
              "    </tr>\n",
              "    <tr>\n",
              "      <th>99995</th>\n",
              "      <td>206202</td>\n",
              "      <td>[24852, 16797, 49683, 432, 18926, 12919, 0, 22...</td>\n",
              "    </tr>\n",
              "    <tr>\n",
              "      <th>99996</th>\n",
              "      <td>206206</td>\n",
              "      <td>[27086, 0, 11520, 0, 0, 0, 0, 0, 0, 13045, 0]</td>\n",
              "    </tr>\n",
              "    <tr>\n",
              "      <th>99997</th>\n",
              "      <td>206207</td>\n",
              "      <td>[25133, 0, 33754, 44632, 13176, 33787, 0, 1618...</td>\n",
              "    </tr>\n",
              "    <tr>\n",
              "      <th>99998</th>\n",
              "      <td>206208</td>\n",
              "      <td>[43961, 21137, 43086, 0, 22935, 13176, 24964, ...</td>\n",
              "    </tr>\n",
              "    <tr>\n",
              "      <th>99999</th>\n",
              "      <td>206209</td>\n",
              "      <td>[24852, 43961, 14197, 0, 19348, 0, 41213, 0, 1...</td>\n",
              "    </tr>\n",
              "  </tbody>\n",
              "</table>\n",
              "<p>100000 rows × 2 columns</p>\n",
              "</div>"
            ],
            "text/plain": [
              "       user_id                                         product_id\n",
              "0            1  [196, 12427, 10258, 25133, 46149, 35951, 38928...\n",
              "1            2  [7963, 20785, 22825, 24768, 27413, 0, 47209, 1...\n",
              "2            3  [39190, 43961, 47766, 21903, 18599, 1005, 1766...\n",
              "3            7  [40852, 37602, 21137, 32177, 13198, 31683, 121...\n",
              "4           13  [27086, 43086, 14197, 34382, 0, 4210, 27435, 2...\n",
              "...        ...                                                ...\n",
              "99995   206202  [24852, 16797, 49683, 432, 18926, 12919, 0, 22...\n",
              "99996   206206      [27086, 0, 11520, 0, 0, 0, 0, 0, 0, 13045, 0]\n",
              "99997   206207  [25133, 0, 33754, 44632, 13176, 33787, 0, 1618...\n",
              "99998   206208  [43961, 21137, 43086, 0, 22935, 13176, 24964, ...\n",
              "99999   206209  [24852, 43961, 14197, 0, 19348, 0, 41213, 0, 1...\n",
              "\n",
              "[100000 rows x 2 columns]"
            ]
          },
          "metadata": {
            "tags": []
          },
          "execution_count": 72
        }
      ]
    },
    {
      "cell_type": "code",
      "metadata": {
        "id": "btgK31tgIxy4"
      },
      "source": [
        "#функция предназначена для удаления нулевых элементов из списка,\r\n",
        "#а также для формирования срезов из 10-ти элементов\r\n",
        "def fetch_ten(l):\r\n",
        "  for i in l:\r\n",
        "    if i == 0:\r\n",
        "      l.remove(i)\r\n",
        "  if len(l)>10:\r\n",
        "    return l[:10]\r\n",
        "  else:\r\n",
        "    return l"
      ],
      "execution_count": 70,
      "outputs": []
    },
    {
      "cell_type": "code",
      "metadata": {
        "id": "b2AGGl5NIlx9"
      },
      "source": [
        "#применяем функцию \"fetch_ten\" к столбцу 'product_id'\r\n",
        "rec['product_id'] = rec['product_id'].apply(fetch_ten)"
      ],
      "execution_count": 73,
      "outputs": []
    },
    {
      "cell_type": "code",
      "metadata": {
        "id": "2dUrrpo7F8Hq"
      },
      "source": [
        "#применяем функцию \"clean_prediction\" к столбцу 'product_id'\r\n",
        "rec['product_id'] = rec.apply(clean_prediction, axis=1)"
      ],
      "execution_count": 74,
      "outputs": []
    },
    {
      "cell_type": "code",
      "metadata": {
        "colab": {
          "base_uri": "https://localhost:8080/",
          "height": 415
        },
        "id": "fmkITaj2Kljr",
        "outputId": "dafefadb-d1cd-4c15-ba22-b307c5315162"
      },
      "source": [
        "rec"
      ],
      "execution_count": 75,
      "outputs": [
        {
          "output_type": "execute_result",
          "data": {
            "text/html": [
              "<div>\n",
              "<style scoped>\n",
              "    .dataframe tbody tr th:only-of-type {\n",
              "        vertical-align: middle;\n",
              "    }\n",
              "\n",
              "    .dataframe tbody tr th {\n",
              "        vertical-align: top;\n",
              "    }\n",
              "\n",
              "    .dataframe thead th {\n",
              "        text-align: right;\n",
              "    }\n",
              "</style>\n",
              "<table border=\"1\" class=\"dataframe\">\n",
              "  <thead>\n",
              "    <tr style=\"text-align: right;\">\n",
              "      <th></th>\n",
              "      <th>user_id</th>\n",
              "      <th>product_id</th>\n",
              "    </tr>\n",
              "  </thead>\n",
              "  <tbody>\n",
              "    <tr>\n",
              "      <th>0</th>\n",
              "      <td>1</td>\n",
              "      <td>196  12427  10258  25133  46149  35951  38928 ...</td>\n",
              "    </tr>\n",
              "    <tr>\n",
              "      <th>1</th>\n",
              "      <td>2</td>\n",
              "      <td>7963  20785  22825  24768  27413  47209  18523...</td>\n",
              "    </tr>\n",
              "    <tr>\n",
              "      <th>2</th>\n",
              "      <td>3</td>\n",
              "      <td>39190  43961  47766  21903  18599  1005  17668...</td>\n",
              "    </tr>\n",
              "    <tr>\n",
              "      <th>3</th>\n",
              "      <td>7</td>\n",
              "      <td>40852  37602  21137  32177  13198  31683  1219...</td>\n",
              "    </tr>\n",
              "    <tr>\n",
              "      <th>4</th>\n",
              "      <td>13</td>\n",
              "      <td>27086  43086  14197  34382  4210  27435  25134...</td>\n",
              "    </tr>\n",
              "    <tr>\n",
              "      <th>...</th>\n",
              "      <td>...</td>\n",
              "      <td>...</td>\n",
              "    </tr>\n",
              "    <tr>\n",
              "      <th>99995</th>\n",
              "      <td>206202</td>\n",
              "      <td>24852  16797  49683  432  18926  12919  22220 ...</td>\n",
              "    </tr>\n",
              "    <tr>\n",
              "      <th>99996</th>\n",
              "      <td>206206</td>\n",
              "      <td>27086  11520  0  0  13045  0</td>\n",
              "    </tr>\n",
              "    <tr>\n",
              "      <th>99997</th>\n",
              "      <td>206207</td>\n",
              "      <td>25133  33754  44632  13176  33787  16185  3397...</td>\n",
              "    </tr>\n",
              "    <tr>\n",
              "      <th>99998</th>\n",
              "      <td>206208</td>\n",
              "      <td>43961  21137  43086  22935  13176  24964  2357...</td>\n",
              "    </tr>\n",
              "    <tr>\n",
              "      <th>99999</th>\n",
              "      <td>206209</td>\n",
              "      <td>24852  43961  14197  19348  41213  13838  9405...</td>\n",
              "    </tr>\n",
              "  </tbody>\n",
              "</table>\n",
              "<p>100000 rows × 2 columns</p>\n",
              "</div>"
            ],
            "text/plain": [
              "       user_id                                         product_id\n",
              "0            1  196  12427  10258  25133  46149  35951  38928 ...\n",
              "1            2  7963  20785  22825  24768  27413  47209  18523...\n",
              "2            3  39190  43961  47766  21903  18599  1005  17668...\n",
              "3            7  40852  37602  21137  32177  13198  31683  1219...\n",
              "4           13  27086  43086  14197  34382  4210  27435  25134...\n",
              "...        ...                                                ...\n",
              "99995   206202  24852  16797  49683  432  18926  12919  22220 ...\n",
              "99996   206206                       27086  11520  0  0  13045  0\n",
              "99997   206207  25133  33754  44632  13176  33787  16185  3397...\n",
              "99998   206208  43961  21137  43086  22935  13176  24964  2357...\n",
              "99999   206209  24852  43961  14197  19348  41213  13838  9405...\n",
              "\n",
              "[100000 rows x 2 columns]"
            ]
          },
          "metadata": {
            "tags": []
          },
          "execution_count": 75
        }
      ]
    },
    {
      "cell_type": "code",
      "metadata": {
        "id": "IWzkKKHTKsRV"
      },
      "source": [
        "#формируем файл с рекомендациями\r\n",
        "submission_6 = rec.to_csv('submission_6.csv', index=False)"
      ],
      "execution_count": 76,
      "outputs": []
    }
  ]
}